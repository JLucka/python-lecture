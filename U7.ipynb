{
 "cells": [
  {
   "cell_type": "markdown",
   "metadata": {},
   "source": [
    "## Programowanie Python. Laboratoria 7"
   ]
  },
  {
   "cell_type": "markdown",
   "metadata": {},
   "source": [
    "Napisz eksperymenty wykorzystujące `timeit` które ocenią w jaki sposób najszybciej wykonać następujące operacje"
   ]
  },
  {
   "cell_type": "markdown",
   "metadata": {},
   "source": [
    "#### Konkatenacja stałej długości stringów\n",
    "\n",
    "* przy pomocy `+` czyli np. `a+b+c+d` dla zdefiniowanych stringów `a,b,c,d`\n",
    "* przy pomocy notacji `\" ... \" % ( ... )`\n",
    "* przy pomocy notacji `\" .... \".format( ... )`"
   ]
  },
  {
   "cell_type": "markdown",
   "metadata": {},
   "source": [
    "#### Obsługa odczytywania nieistniejących kluczy w słowniku:\n",
    "\n",
    "* sprawdzenie `in`\n",
    "* sprawdzenie `.has_key`\n",
    "* metoda `.get(key, None)`\n",
    "* złapanie wyjątku"
   ]
  },
  {
   "cell_type": "markdown",
   "metadata": {},
   "source": [
    "#### Przekonwertuj listę słów na listę słów złożonych z wielkich liter, np. ['ala', 'ola'] -> ['ALA', 'OLA']\n",
    "\n",
    "* Zwykłą pętlą z `append`\n",
    "* listr comprehension z `.upper()`\n",
    "* `map` z funkcją `str.upper`"
   ]
  },
  {
   "cell_type": "markdown",
   "metadata": {},
   "source": [
    "#### Stwórz warunkowo listę, np. listę liczb parzystych\n",
    "\n",
    "* Zwykłą pętlą z `if`\n",
    "* list comprehension z filtrowaniem `[ ... for ... if ... ]`\n",
    "* funkcyjnie, używając `filter`"
   ]
  },
  {
   "cell_type": "markdown",
   "metadata": {},
   "source": [
    "#### Stwórz listę używając funkcji, np. stwórz listę długości słów z innej listy ['ala', 'olek'] -> [3, 4]\n",
    "\n",
    "* Zwykłą pętlą z `append` i `len`\n",
    "* list comprehension z nałożonym `len`\n",
    "* funkcyjnie, używając `map`"
   ]
  },
  {
   "cell_type": "markdown",
   "metadata": {},
   "source": [
    "#### Konkatenacja stałej długości stringów\n",
    "\n",
    "* przy pomocy `+` czyli np. `a+b+c+d` dla zdefiniowanych stringów `a,b,c,d`\n",
    "* przy pomocy notacji `\" ... \" % ( ... )`\n",
    "* przy pomocy notacji `\" .... \".format( ... )`"
   ]
  },
  {
   "cell_type": "markdown",
   "metadata": {},
   "source": [
    "#### Konkatenacja stałej długości stringów, z wykorzystaniem rzutowania\n",
    "\n",
    "* przy pomocy `+` czyli np. `str(a)+str(b)+str(c)+str(d)` dla zdefiniowanych **nie** stringów `a,b,c,d`\n",
    "* przy pomocy notacji `\" ... \" % ( ... )`\n",
    "* przy pomocy notacji `\" .... \".format( ... )`"
   ]
  },
  {
   "cell_type": "markdown",
   "metadata": {},
   "source": [
    "#### Zaproponuj własny problem, 3 rozwiązania i postaraj się uzasadnić uzyskane wyniki"
   ]
  },
  {
   "cell_type": "markdown",
   "metadata": {},
   "source": [
    "### Własny moduł"
   ]
  },
  {
   "cell_type": "markdown",
   "metadata": {},
   "source": [
    "Zaimplementuj grę N-puzzle (8-puzzle, 15-puzzle) w formie modułu zawierającego następujące elementy:\n",
    "\n",
    "* Logika gry w submodule `core`\n",
    "* Metody wizualizacji gry w `visualizers`\n",
    "* Kod generatorów plansz w `generators`\n",
    "* Kod \"gracza\" w submodule `players`\n",
    "\n",
    "Powinniśmy być w stanie grać wg. następującego scenariusza:\n"
   ]
  },
  {
   "cell_type": "code",
   "execution_count": null,
   "metadata": {
    "collapsed": true
   },
   "outputs": [],
   "source": [
    "from puzzle import PuzzleGame # tak na prawde klasa PuzzleGame powinna byc w .core\n",
    "from puzzle.visualizers import SimplePrinter\n",
    "from puzzle.generators import RandomInit\n",
    "from puzzle.players import Human\n",
    "\n",
    "N = int(input('Game size, N='))\n",
    "game = PuzzleGame(N, generator=RandomInit, visualizer=SimplePrinter)\n",
    "#game = PuzzleGame(N) # takie wywolanie rowniez powinno dzialac, tak samo jak powyzsze\n",
    "player = Human(game)\n",
    "while not game.is_finished():\n",
    "    game.show() # wyswietla gre uzywajac visualizera\n",
    "    move = player.get_move() # dla gracza ludzkiego powinna mu sie pokazac lista dostepnych ruchow\n",
    "    game.make_move(move) # wykonujemy wybrany ruch z posrod mozliwych"
   ]
  },
  {
   "cell_type": "markdown",
   "metadata": {},
   "source": [
    "#### Przykladowa rozgrywka\n",
    "\n",
    "Game size, N=2\n",
    "\n",
    "    _ 1\n",
    "    3 2\n",
    "    \n",
    "valid moves: 1, 3;\n",
    "your move: 1\n",
    "\n",
    "    1 _\n",
    "    3 2\n",
    "    \n",
    "valid moves: 1, 2;\n",
    "your move: 2\n",
    "\n",
    "    1 2\n",
    "    3 _\n",
    "       \n",
    "You won!"
   ]
  },
  {
   "cell_type": "markdown",
   "metadata": {},
   "source": [
    "#### Zadanie dodatkowe\n",
    "\n",
    "Zaimplementuj dodatkowo gracza `BFSPlayer`, ktory bedzie grać wyszukując BFSem pośród grafu gry najlepszego ruchu oraz HTMLPrinter do wizualizatorow, efektem uruchomienia kodu z tymi 2 nowymi klasami w powyzszej petli powinno byc stworzenie pliku `.html` w ktorym bedzie wyswietlona cala historia rozgrywki, czyli kazde wywolanie `.show()` powinno dodac do pliku .html poprawny kod ktory opisze sytuacje na planszy"
   ]
  }
 ],
 "metadata": {
  "kernelspec": {
   "display_name": "Python 2",
   "language": "python",
   "name": "python2"
  },
  "language_info": {
   "codemirror_mode": {
    "name": "ipython",
    "version": 2
   },
   "file_extension": ".py",
   "mimetype": "text/x-python",
   "name": "python",
   "nbconvert_exporter": "python",
   "pygments_lexer": "ipython2",
   "version": "2.7.9"
  }
 },
 "nbformat": 4,
 "nbformat_minor": 0
}
