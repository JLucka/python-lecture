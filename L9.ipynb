{
 "cells": [
  {
   "cell_type": "markdown",
   "metadata": {},
   "source": [
    "# Język Python - Wykład 9."
   ]
  },
  {
   "cell_type": "markdown",
   "metadata": {},
   "source": [
    "## Moduły naukowe"
   ]
  },
  {
   "cell_type": "code",
   "execution_count": null,
   "metadata": {
    "collapsed": true
   },
   "outputs": [],
   "source": [
    "%matplotlib inline"
   ]
  },
  {
   "cell_type": "code",
   "execution_count": null,
   "metadata": {
    "collapsed": false
   },
   "outputs": [],
   "source": [
    "import matplotlib.pyplot as plt\n",
    "import numpy as np"
   ]
  },
  {
   "cell_type": "code",
   "execution_count": null,
   "metadata": {
    "collapsed": false
   },
   "outputs": [],
   "source": [
    "x = np.linspace(0, 3*np.pi, 500)\n",
    "plt.figure()\n",
    "plt.plot(x, np.sin(x**2))\n",
    "plt.title('A simple chirp')\n",
    "plt.show()"
   ]
  },
  {
   "cell_type": "code",
   "execution_count": null,
   "metadata": {
    "collapsed": false
   },
   "outputs": [],
   "source": [
    "from collections import Counter\n",
    "\n",
    "with open('hamlet.txt') as l1:\n",
    "    data = Counter(l1.read().split())\n",
    "data = filter(lambda x:x[1]>1 and len(x[0])>4, sorted(data.items(), key=lambda x:x[1], reverse=True))\n",
    "\n",
    "from pprint import pprint\n",
    "pprint(data[:10])\n",
    "\n",
    "plt.figure(figsize=(10,10))\n",
    "plt.plot(range(len(data)), [v[1] for v in data])\n",
    "plt.show()"
   ]
  },
  {
   "cell_type": "code",
   "execution_count": null,
   "metadata": {
    "collapsed": false
   },
   "outputs": [],
   "source": [
    "plt.figure(figsize=(10,10))\n",
    "plt.scatter(range(len(data)), [v[1] for v in data], linewidth=0, c=range(len(data)))\n",
    "plt.show()"
   ]
  },
  {
   "cell_type": "code",
   "execution_count": null,
   "metadata": {
    "collapsed": false
   },
   "outputs": [],
   "source": [
    "plt.figure(figsize=(10,10))\n",
    "plt.gca().fill_between(range(len(data)), [np.log(v[1]) for v in data], color='red', alpha=0.5)\n",
    "plt.gca().fill_between(range(len(data)), [len(v[0]) for v in data], color='green', alpha=0.5)\n",
    "plt.show()"
   ]
  },
  {
   "cell_type": "code",
   "execution_count": null,
   "metadata": {
    "collapsed": true
   },
   "outputs": [],
   "source": [
    "import scipy"
   ]
  },
  {
   "cell_type": "markdown",
   "metadata": {},
   "source": [
    "$$\n",
    "\\int_0^{10} 3x^2 dx\n",
    "$$"
   ]
  },
  {
   "cell_type": "code",
   "execution_count": null,
   "metadata": {
    "collapsed": false
   },
   "outputs": [],
   "source": [
    "from scipy.integrate import quad\n",
    "print quad(lambda x:3*x**2, 0, 10)"
   ]
  },
  {
   "cell_type": "code",
   "execution_count": null,
   "metadata": {
    "collapsed": false
   },
   "outputs": [],
   "source": [
    "plt.figure(figsize=(10,10))\n",
    "plt.gca().fill_between(np.linspace(0,10,100), [(lambda x: 3*x**2)(v) for v in np.linspace(0,10,100)])\n",
    "plt.show()"
   ]
  },
  {
   "cell_type": "markdown",
   "metadata": {},
   "source": [
    "$$\n",
    "\\int_{-\\infty}^{\\infty} \\frac{1}{\\sqrt{2\\pi}} e^{-\\tfrac{1}{2}\\|x-4\\|^2} dx\n",
    "$$"
   ]
  },
  {
   "cell_type": "code",
   "execution_count": null,
   "metadata": {
    "collapsed": false
   },
   "outputs": [],
   "source": [
    "normal1d = lambda x:1/np.sqrt(2*np.pi) * np.exp(-((x-4)*(x-4))/2)\n",
    "print quad(normal1d, -np.inf, np.inf)"
   ]
  },
  {
   "cell_type": "code",
   "execution_count": null,
   "metadata": {
    "collapsed": false
   },
   "outputs": [],
   "source": [
    "plt.figure(figsize=(10,10))\n",
    "plt.gca().fill_between(np.linspace(-10,10,100), [normal1d(v) for v in np.linspace(-10,10,100)])\n",
    "plt.show()"
   ]
  },
  {
   "cell_type": "markdown",
   "metadata": {},
   "source": [
    "$$\n",
    "\\int_{-\\infty}^{\\infty} \\int_{-\\infty}^{\\infty} \\frac{1}{{2\\pi}} e^{-\\tfrac{1}{2}\\|[x\\; y]^T\\|^2} dy\\; dx\n",
    "$$"
   ]
  },
  {
   "cell_type": "code",
   "execution_count": null,
   "metadata": {
    "collapsed": false,
    "scrolled": true
   },
   "outputs": [],
   "source": [
    "from scipy.integrate import dblquad\n",
    "normal2d = lambda y, x:1/(2*np.pi) * np.exp(-(x*x+y*y)/2)\n",
    "print dblquad(normal2d, -np.inf, np.inf, lambda x:-np.inf, lambda x:np.inf)"
   ]
  },
  {
   "cell_type": "markdown",
   "metadata": {},
   "source": [
    "$$\n",
    "\\int_{-\\infty}^{\\infty} \\int_{-\\infty}^{\\infty} \\int_{-\\infty}^{\\infty} \\frac{1}{(2\\pi)^{3/2}} e^{-\\tfrac{1}{2}\\|[x\\; y\\; z]^T\\|^2} dz\\; dy\\; dx\n",
    "$$"
   ]
  },
  {
   "cell_type": "code",
   "execution_count": null,
   "metadata": {
    "collapsed": false
   },
   "outputs": [],
   "source": [
    "from scipy.integrate import tplquad\n",
    "normal3d = lambda z, y, x :1/(2*np.pi) ** (1.5) * np.exp(-(x*x+y*y+z*z)/2)\n",
    "print tplquad(normal3d, -np.inf, np.inf, lambda x:-np.inf, lambda x:np.inf, lambda x, y:-np.inf, lambda x, y:np.inf)"
   ]
  },
  {
   "cell_type": "code",
   "execution_count": null,
   "metadata": {
    "collapsed": true
   },
   "outputs": [],
   "source": [
    "from numpy import linalg as la"
   ]
  },
  {
   "cell_type": "code",
   "execution_count": null,
   "metadata": {
    "collapsed": false
   },
   "outputs": [],
   "source": [
    "X = np.array([[1,2],[4,1]])\n",
    "print X\n",
    "print la.inv(X)\n",
    "print la.inv(X).dot(X)"
   ]
  },
  {
   "cell_type": "code",
   "execution_count": null,
   "metadata": {
    "collapsed": false
   },
   "outputs": [],
   "source": [
    "X = np.array([[0.1,2],[3,60]])\n",
    "print la.inv(X)"
   ]
  },
  {
   "cell_type": "code",
   "execution_count": null,
   "metadata": {
    "collapsed": false
   },
   "outputs": [],
   "source": [
    "print la.pinv(X)\n",
    "print la.pinv(X).dot(X)"
   ]
  },
  {
   "cell_type": "markdown",
   "metadata": {},
   "source": [
    "$$\n",
    "XA = y\n",
    "$$\n",
    "$$\n",
    "X^TXA = X^Ty\n",
    "$$\n",
    "$$\n",
    "(X^TX)^{-1}X^Ty \\approx A\n",
    "$$\n",
    "$$\n",
    "X^\\dagger y \\approx A\n",
    "$$"
   ]
  },
  {
   "cell_type": "code",
   "execution_count": null,
   "metadata": {
    "collapsed": false
   },
   "outputs": [],
   "source": [
    "def plot_data(X, functions):\n",
    "    plt.figure(figsize=(6, 6))\n",
    "    plt.scatter(X.ravel(), y.ravel(), linewidth=0, alpha=0.5)\n",
    "    for f in functions:\n",
    "        plt.plot([0, 1], f.dot(np.array([[0, 1]])).ravel())        \n",
    "    plt.show()\n",
    "\n",
    "X = np.random.rand(100).reshape(1,100)\n",
    "A = np.array([[3]])\n",
    "y = (A.dot(X)).T + np.random.normal(size=(100, 1), scale=0.3)\n",
    "\n",
    "solution = la.pinv(X).T.dot(y)\n",
    "\n",
    "print A.ravel()\n",
    "print solution.ravel()\n",
    "\n",
    "\n",
    "plot_data(X, [])\n",
    "plot_data(X, [A])\n",
    "plot_data(X, [A, solution])\n"
   ]
  },
  {
   "cell_type": "code",
   "execution_count": null,
   "metadata": {
    "collapsed": false
   },
   "outputs": [],
   "source": [
    "print dir(la)"
   ]
  },
  {
   "cell_type": "code",
   "execution_count": null,
   "metadata": {
    "collapsed": false
   },
   "outputs": [],
   "source": [
    "print la.solve(X.dot(X.T), X.dot(y)) # AX = y --> X = solve(A, y)"
   ]
  },
  {
   "cell_type": "code",
   "execution_count": null,
   "metadata": {
    "collapsed": false
   },
   "outputs": [],
   "source": [
    "print la.lstsq(X.T, y)"
   ]
  },
  {
   "cell_type": "code",
   "execution_count": null,
   "metadata": {
    "collapsed": false
   },
   "outputs": [],
   "source": [
    "print la.qr(X.T.dot(X)) # Rozklad QR"
   ]
  },
  {
   "cell_type": "code",
   "execution_count": null,
   "metadata": {
    "collapsed": false
   },
   "outputs": [],
   "source": [
    "print la.cholesky(X.T.dot(X) + np.eye(100)) # Dekompozycja Choleskiego, rozklad Choleskiego"
   ]
  },
  {
   "cell_type": "code",
   "execution_count": null,
   "metadata": {
    "collapsed": true
   },
   "outputs": [],
   "source": [
    "from scipy import optimize"
   ]
  },
  {
   "cell_type": "code",
   "execution_count": null,
   "metadata": {
    "collapsed": false
   },
   "outputs": [],
   "source": [
    "def f(x):\n",
    "    return -np.exp(-(x-0.7)**2)\n",
    "\n",
    "x_min = optimize.brent(f) \n",
    "print 'f(',x_min,')=', f(x_min)\n",
    "\n",
    "x = np.linspace(-2, 5, 100)\n",
    "\n",
    "plt.figure(figsize=(10,10))\n",
    "plt.plot(x, f(x))\n",
    "plt.scatter([x_min], [f(x_min)], c='red', s=200, linewidth=0)\n",
    "plt.show()"
   ]
  },
  {
   "cell_type": "code",
   "execution_count": null,
   "metadata": {
    "collapsed": false
   },
   "outputs": [],
   "source": [
    "def f(x):   # The rosenbrock function\n",
    "    return .5*(1 - x[0])**2 + (x[1] - x[0]**2)**2\n",
    "\n",
    "x_min = optimize.fmin_cg(f, [2, 2])\n",
    "print x_min"
   ]
  },
  {
   "cell_type": "code",
   "execution_count": null,
   "metadata": {
    "collapsed": false
   },
   "outputs": [],
   "source": [
    "def fprime(x):\n",
    "    return np.array((-2*.5*(1 - x[0]) - 4*x[0]*(x[1] - x[0]**2), 2*(x[1] - x[0]**2)))\n",
    "\n",
    "x_min = optimize.fmin_cg(f, [2, 2], fprime=fprime)\n",
    "print x_min"
   ]
  },
  {
   "cell_type": "code",
   "execution_count": null,
   "metadata": {
    "collapsed": false
   },
   "outputs": [],
   "source": [
    "x_min = optimize.minimize(fun=f, x0=[2, 2], jac=fprime)\n",
    "print x_min"
   ]
  },
  {
   "cell_type": "code",
   "execution_count": null,
   "metadata": {
    "collapsed": false
   },
   "outputs": [],
   "source": [
    "x_min = optimize.minimize(fun=f, x0=[2, 2], jac=fprime, constraints=[{'type': 'eq', 'fun': lambda x : x[0]+x[1]}])\n",
    "print x_min"
   ]
  },
  {
   "cell_type": "code",
   "execution_count": null,
   "metadata": {
    "collapsed": false
   },
   "outputs": [],
   "source": [
    "x_min = optimize.minimize(fun=f, x0=[2, 2], constraints=[{'type': 'eq', 'fun': lambda x : x[0]+x[1]}])\n",
    "print x_min"
   ]
  },
  {
   "cell_type": "code",
   "execution_count": null,
   "metadata": {
    "collapsed": false
   },
   "outputs": [],
   "source": [
    "\n",
    "def f(x):\n",
    "    return x**2 + 10*np.sin(x)\n",
    "\n",
    "xmin = optimize.minimize(f, x0=np.array([np.random.normal()*10]))['x']\n",
    "root = optimize.fsolve(f, 1)\n",
    "root2 = optimize.fsolve(f, -2.5)\n",
    "\n",
    "xdata = np.linspace(-10, 10, 10)\n",
    "ydata = f(xdata) + np.random.normal(size=xdata.size, scale=10)\n",
    "\n",
    "def f2(x, a, b):\n",
    "    return a*x**2 + b*np.sin(x)\n",
    "\n",
    "params, params_covariance = optimize.curve_fit(f2, xdata, ydata)\n",
    "\n",
    "print params\n",
    "fig = plt.figure(figsize=(10, 10))\n",
    "ax = fig.add_subplot(111)\n",
    "ax.plot(x, f(x), 'b-', label=\"f(x)\")\n",
    "ax.plot(x, f2(x, *params), 'r--', label=\"Curve fit\")\n",
    "\n",
    "ax.plot(xmin, f(xmin), 'go', label=\"Minimum\")\n",
    "roots = np.array([root, root2])\n",
    "ax.plot(roots, f(roots), 'kv', label=\"Roots\")\n",
    "ax.legend()\n",
    "ax.set_xlabel('x')\n",
    "ax.set_ylabel('f(x)')\n",
    "plt.show()\n",
    "\n"
   ]
  }
 ],
 "metadata": {
  "kernelspec": {
   "display_name": "Python 2",
   "language": "python",
   "name": "python2"
  },
  "language_info": {
   "codemirror_mode": {
    "name": "ipython",
    "version": 2
   },
   "file_extension": ".py",
   "mimetype": "text/x-python",
   "name": "python",
   "nbconvert_exporter": "python",
   "pygments_lexer": "ipython2",
   "version": "2.7.9"
  }
 },
 "nbformat": 4,
 "nbformat_minor": 0
}
