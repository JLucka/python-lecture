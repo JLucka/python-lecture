{
 "metadata": {
  "name": ""
 },
 "nbformat": 3,
 "nbformat_minor": 0,
 "worksheets": [
  {
   "cells": [
    {
     "cell_type": "heading",
     "level": 1,
     "metadata": {},
     "source": [
      "J\u0119zyk Python - Wyk\u0142ad 2."
     ]
    },
    {
     "cell_type": "heading",
     "level": 2,
     "metadata": {},
     "source": [
      "PEP 8 - Zasady formatowania kodu"
     ]
    },
    {
     "cell_type": "markdown",
     "metadata": {},
     "source": [
      "* http://www.python.org/dev/peps/pep-0008/\n",
      "* 4 spacje na jedno wci\u0119cie kodu\n",
      "* Nie u\u017cywa\u0107 znak\u00f3w tabulacji (``\\t``)\n",
      "* Nigdy nie miesza\u0107 znak\u00f3w tabulacji ze spacjami do robienia wci\u0119\u0107 jednym kodzie\n",
      "* Jedna pusta linia pomi\u0119dzy kodem funkcji i metod\n",
      "* Dwie puste linie pomi\u0119dzy kodem klas\n",
      "* Znak spacji po znaku ``,`` w s\u0142ownikach, zbiorach, listach, tuplach, argumentach oraz po znaku ``:`` w s\u0142ownikach (nie przed!)\n",
      "\n",
      "    Dobrze:\n",
      "        [1, 2, 3, 4]\n",
      "        {'black': 5, 'orange': 10}\n",
      "        f(1, 4)\n",
      "    \n",
      "    \u0179le:\n",
      "        [1,2,3,4]\n",
      "        [ 1,2,3,4 ]\n",
      "        { 'black' : 5, 'orange' : 10 }\n",
      "        f(1,4)\n",
      "        f( 1 , 4 )\n",
      "    \n",
      "* Znaki spacji przed i po wyra\u017ceniach przypisania i por\u00f3wnania (z wyj\u0105tkiem listy argument\u00f3w)\n",
      "\n",
      "    Dobrze:\n",
      "        a = 5\n",
      "        b = [1, 2, 3, 4]\n",
      "        f(a=5, b=10)\n",
      "    \n",
      "    \u0179le:\n",
      "        a=5\n",
      "        a= 5\n",
      "        a =5\n",
      "        f(a = 5, b = 10)\n",
      "        f(a= 5, b= 10)\n",
      "\n",
      "* Bez spacji na brzegach nawiasowania i listy argument\u00f3w\n",
      "\n",
      "    Dobrze:\n",
      "        (a + 3) * (5 - b)\n",
      "        \n",
      "    \u0179le:\n",
      "        (a+3)*(5-b)\n",
      "        ( a + 3 ) * ( 5 - b )\n",
      "        \n",
      "\n",
      "* Bez spacji na brzegach docstring\u00f3w jednoliniowych (wi\u0119cej o zasadach pisania docstring\u00f3w w PEP 257 http://www.python.org/dev/peps/pep-0257/)\n",
      "\n",
      "    Dobrze:\n",
      "        def make_squares(key, value=0):\n",
      "            \"\"\"Return a dictionary and a list...\"\"\"\n",
      "            d = {key: value}\n",
      "            l = [key, value]\n",
      "            return d, l\n",
      "    \u0179le:\n",
      "        def make_squares(key, value=0):\n",
      "            \"\"\"\n",
      "                Return a dictionary and a list...\n",
      "            \"\"\"\n",
      "            d = {key: value}\n",
      "            l = [key, value]\n",
      "            return d, l\n",
      "            "
     ]
    },
    {
     "cell_type": "heading",
     "level": 2,
     "metadata": {},
     "source": [
      "Listy - zaawansowane u\u017cycie"
     ]
    },
    {
     "cell_type": "heading",
     "level": 3,
     "metadata": {},
     "source": [
      "Przed\u0142u\u017canie listy"
     ]
    },
    {
     "cell_type": "code",
     "collapsed": false,
     "input": [
      "extend_list = [1, 2, 3]\n",
      "extend_list.extend([4, 5, 6])\n",
      "extend_list"
     ],
     "language": "python",
     "metadata": {},
     "outputs": []
    },
    {
     "cell_type": "heading",
     "level": 3,
     "metadata": {},
     "source": [
      "Usuwanie z listy"
     ]
    },
    {
     "cell_type": "code",
     "collapsed": false,
     "input": [
      "del extend_list[2]\n",
      "extend_list"
     ],
     "language": "python",
     "metadata": {},
     "outputs": []
    },
    {
     "cell_type": "code",
     "collapsed": false,
     "input": [
      "del extend_list[1:3]\n",
      "extend_list"
     ],
     "language": "python",
     "metadata": {},
     "outputs": [
      {
       "ename": "NameError",
       "evalue": "name 'extend_list' is not defined",
       "output_type": "pyerr",
       "traceback": [
        "\u001b[1;31m---------------------------------------------------------------------------\u001b[0m\n\u001b[1;31mNameError\u001b[0m                                 Traceback (most recent call last)",
        "\u001b[1;32m<ipython-input-1-42317415f906>\u001b[0m in \u001b[0;36m<module>\u001b[1;34m()\u001b[0m\n\u001b[1;32m----> 1\u001b[1;33m \u001b[1;32mdel\u001b[0m \u001b[0mextend_list\u001b[0m\u001b[1;33m[\u001b[0m\u001b[1;36m1\u001b[0m\u001b[1;33m:\u001b[0m\u001b[1;36m3\u001b[0m\u001b[1;33m]\u001b[0m\u001b[1;33m\u001b[0m\u001b[0m\n\u001b[0m\u001b[0;32m      2\u001b[0m \u001b[0mextend_list\u001b[0m\u001b[1;33m\u001b[0m\u001b[0m\n",
        "\u001b[1;31mNameError\u001b[0m: name 'extend_list' is not defined"
       ]
      }
     ],
     "prompt_number": 1
    },
    {
     "cell_type": "code",
     "collapsed": false,
     "input": [
      "del extend_list\n",
      "print extend_list"
     ],
     "language": "python",
     "metadata": {},
     "outputs": [
      {
       "ename": "NameError",
       "evalue": "name 'extend_list' is not defined",
       "output_type": "pyerr",
       "traceback": [
        "\u001b[1;31m---------------------------------------------------------------------------\u001b[0m\n\u001b[1;31mNameError\u001b[0m                                 Traceback (most recent call last)",
        "\u001b[1;32m<ipython-input-2-db0bfe75163d>\u001b[0m in \u001b[0;36m<module>\u001b[1;34m()\u001b[0m\n\u001b[1;32m----> 1\u001b[1;33m \u001b[1;32mdel\u001b[0m \u001b[0mextend_list\u001b[0m\u001b[1;33m\u001b[0m\u001b[0m\n\u001b[0m\u001b[0;32m      2\u001b[0m \u001b[1;32mprint\u001b[0m \u001b[0mextend_list\u001b[0m\u001b[1;33m\u001b[0m\u001b[0m\n",
        "\u001b[1;31mNameError\u001b[0m: name 'extend_list' is not defined"
       ]
      }
     ],
     "prompt_number": 2
    },
    {
     "cell_type": "heading",
     "level": 3,
     "metadata": {},
     "source": [
      "Lista jako stos"
     ]
    },
    {
     "cell_type": "code",
     "collapsed": false,
     "input": [
      "stack = [3, 4, 5, 6, 7]\n",
      "stack.pop()"
     ],
     "language": "python",
     "metadata": {},
     "outputs": [
      {
       "metadata": {},
       "output_type": "pyout",
       "prompt_number": 3,
       "text": [
        "7"
       ]
      }
     ],
     "prompt_number": 3
    },
    {
     "cell_type": "code",
     "collapsed": false,
     "input": [
      "stack.pop()"
     ],
     "language": "python",
     "metadata": {},
     "outputs": [
      {
       "metadata": {},
       "output_type": "pyout",
       "prompt_number": 4,
       "text": [
        "6"
       ]
      }
     ],
     "prompt_number": 4
    },
    {
     "cell_type": "code",
     "collapsed": false,
     "input": [
      "stack"
     ],
     "language": "python",
     "metadata": {},
     "outputs": [
      {
       "metadata": {},
       "output_type": "pyout",
       "prompt_number": 5,
       "text": [
        "[3, 4, 5]"
       ]
      }
     ],
     "prompt_number": 5
    },
    {
     "cell_type": "code",
     "collapsed": false,
     "input": [
      "stack.append(10)"
     ],
     "language": "python",
     "metadata": {},
     "outputs": [],
     "prompt_number": 6
    },
    {
     "cell_type": "code",
     "collapsed": false,
     "input": [
      "stack"
     ],
     "language": "python",
     "metadata": {},
     "outputs": [
      {
       "metadata": {},
       "output_type": "pyout",
       "prompt_number": 7,
       "text": [
        "[3, 4, 5, 10]"
       ]
      }
     ],
     "prompt_number": 7
    },
    {
     "cell_type": "heading",
     "level": 3,
     "metadata": {},
     "source": [
      "Lista jako kolejka"
     ]
    },
    {
     "cell_type": "markdown",
     "metadata": {},
     "source": [
      "List\u0119\u00a0mo\u017cna u\u017cywa\u0107 jak kolejk\u0119, ale operacje na pocz\u0105tku listy s\u0105 nieefektywne:"
     ]
    },
    {
     "cell_type": "code",
     "collapsed": false,
     "input": [
      "queue = [3, 4, 5, 6, 7]\n",
      "queue.pop(0)"
     ],
     "language": "python",
     "metadata": {},
     "outputs": []
    },
    {
     "cell_type": "code",
     "collapsed": false,
     "input": [
      "queue.append(10)\n",
      "queue"
     ],
     "language": "python",
     "metadata": {},
     "outputs": []
    },
    {
     "cell_type": "markdown",
     "metadata": {},
     "source": [
      "Zamiast tego lepiej u\u017cy\u0107 specjalnie do tego przeznaczon\u0105\u00a0strukture deque z modu\u0142u standardowego collections:"
     ]
    },
    {
     "cell_type": "code",
     "collapsed": false,
     "input": [
      "from collections import deque\n",
      "queue = deque([\"Eric\", \"John\", \"Michael\"])\n",
      "queue.append(\"Terry\")           # Terry arrives\n",
      "queue.append(\"Graham\")          # Graham arrives\n",
      "queue.popleft()                 # The first to arrive now leaves"
     ],
     "language": "python",
     "metadata": {},
     "outputs": []
    },
    {
     "cell_type": "code",
     "collapsed": false,
     "input": [
      "queue.popleft()                 # The second to arrive now leaves"
     ],
     "language": "python",
     "metadata": {},
     "outputs": []
    },
    {
     "cell_type": "code",
     "collapsed": false,
     "input": [
      "queue                           # Remaining queue in order of arrival"
     ],
     "language": "python",
     "metadata": {},
     "outputs": []
    },
    {
     "cell_type": "heading",
     "level": 3,
     "metadata": {},
     "source": [
      "List comprehension"
     ]
    },
    {
     "cell_type": "markdown",
     "metadata": {},
     "source": [
      "Rozwijanie listy jest idiomem zast\u0119pujacym wyra\u017cenia p\u0119tli for buduj\u0105cej list\u0119:"
     ]
    },
    {
     "cell_type": "code",
     "collapsed": false,
     "input": [
      "squares = []\n",
      "for x in range(10):\n",
      "    squares.append(x**2)\n",
      "\n",
      "squares"
     ],
     "language": "python",
     "metadata": {},
     "outputs": []
    },
    {
     "cell_type": "markdown",
     "metadata": {},
     "source": [
      "To samo mo\u017cna zapisa\u0107 pro\u015bciej:"
     ]
    },
    {
     "cell_type": "code",
     "collapsed": false,
     "input": [
      "\n",
      "[x**2 for x in range(10)]"
     ],
     "language": "python",
     "metadata": {},
     "outputs": []
    },
    {
     "cell_type": "markdown",
     "metadata": {},
     "source": [
      "Mo\u017cna te\u017c tworzy\u0107 p\u0119tle zagnie\u017cdzone i u\u017cywa\u0107\u00a0konstrukcji warunkowych:"
     ]
    },
    {
     "cell_type": "code",
     "collapsed": false,
     "input": [
      "[(x, y) for x in [1, 2, 3] for y in [3, 1, 4] if x != y]"
     ],
     "language": "python",
     "metadata": {},
     "outputs": []
    },
    {
     "cell_type": "heading",
     "level": 3,
     "metadata": {},
     "source": [
      "Sortowanie"
     ]
    },
    {
     "cell_type": "markdown",
     "metadata": {},
     "source": [
      "Sortowanie przez tworzenie nowej listy:"
     ]
    },
    {
     "cell_type": "code",
     "collapsed": false,
     "input": [
      "sorted([5, 2, 3, 1, 4])"
     ],
     "language": "python",
     "metadata": {},
     "outputs": []
    },
    {
     "cell_type": "markdown",
     "metadata": {},
     "source": [
      "Sortowanie w miejscu:"
     ]
    },
    {
     "cell_type": "code",
     "collapsed": false,
     "input": [
      "a = [5, 2, 3, 1, 4]\n",
      "a.sort(reverse=True)\n",
      "a"
     ],
     "language": "python",
     "metadata": {},
     "outputs": []
    },
    {
     "cell_type": "markdown",
     "metadata": {},
     "source": [
      "Sortowaniem z u\u017cyciem klucza:"
     ]
    },
    {
     "cell_type": "code",
     "collapsed": false,
     "input": [
      "fruits = [('apple', 3), ('orange', 1), ('banana', 2)]\n",
      "sorted(fruits, key=lambda fruit: fruit[0])"
     ],
     "language": "python",
     "metadata": {},
     "outputs": []
    },
    {
     "cell_type": "code",
     "collapsed": false,
     "input": [
      "sorted(fruits, key=lambda fruit: fruit[1])"
     ],
     "language": "python",
     "metadata": {},
     "outputs": []
    },
    {
     "cell_type": "markdown",
     "metadata": {},
     "source": [
      "Kluczem mo\u017ce by\u0107 nawet callable, kt\u00f3ry go wygeneruje:"
     ]
    },
    {
     "cell_type": "code",
     "collapsed": false,
     "input": [
      "chars = ['Z', 'z', 'C', 'c', 'A', 'a']\n",
      "sorted(chars)"
     ],
     "language": "python",
     "metadata": {},
     "outputs": []
    },
    {
     "cell_type": "code",
     "collapsed": false,
     "input": [
      "sorted(chars, key=str.lower)"
     ],
     "language": "python",
     "metadata": {},
     "outputs": []
    },
    {
     "cell_type": "markdown",
     "metadata": {},
     "source": [
      "Python implementuje stabilne sortowanie:"
     ]
    },
    {
     "cell_type": "code",
     "collapsed": false,
     "input": [
      "from operator import itemgetter\n",
      "sorted([('red', 1), ('blue', 1), ('red', 2), ('blue', 2)], key=itemgetter(1))"
     ],
     "language": "python",
     "metadata": {},
     "outputs": []
    },
    {
     "cell_type": "heading",
     "level": 2,
     "metadata": {},
     "source": [
      "Lambda wyra\u017cenia"
     ]
    },
    {
     "cell_type": "markdown",
     "metadata": {},
     "source": [
      "* Funkcja nienazwana utworzona w miejscu (anonimowa)\n",
      "* Mo\u017cna j\u0105 przypisa\u0107 do zmiennej \n",
      "* Najcz\u0119\u015bciej u\u017cywamy jej przy programowaniu funkcyjnym (wstrzykujemy logik\u0119 kodu do do funkcji jako argument, np. patrz sortowanie)\n",
      "* Cia\u0142o funkcji lambda sk\u0142ada si\u0119\u00a0z pojedynczego wyra\u017cenia, kt\u00f3rego ewaluacja zwracana jest jako wynik funkcji"
     ]
    },
    {
     "cell_type": "code",
     "collapsed": false,
     "input": [
      "lambda x: x + 1"
     ],
     "language": "python",
     "metadata": {},
     "outputs": []
    },
    {
     "cell_type": "code",
     "collapsed": false,
     "input": [
      "operator_dodaj = lambda x, y: x + y\n",
      "operator_dodaj(1, 2)"
     ],
     "language": "python",
     "metadata": {},
     "outputs": []
    },
    {
     "cell_type": "heading",
     "level": 2,
     "metadata": {},
     "source": [
      "Programowanie funkcyjne"
     ]
    },
    {
     "cell_type": "markdown",
     "metadata": {},
     "source": [
      "* filter - filtrowanie kolekcji\n",
      "* map - zmiana formatu kolekcji\n",
      "* reduce - redukowanie kolekcji (wyliczanie warto\u015bci z jej element\u00f3w)"
     ]
    },
    {
     "cell_type": "markdown",
     "metadata": {},
     "source": [
      "Policzy\u0107, ile owoc\u00f3w wsp\u00f3lnie ma Merry i Tom:"
     ]
    },
    {
     "cell_type": "code",
     "collapsed": false,
     "input": [
      "fruits = {\n",
      "    'Merry': [\n",
      "        ('apple', 5),\n",
      "        ('orange', 3),\n",
      "    ],\n",
      "    'John': [\n",
      "        ('berries', 1),\n",
      "        ('orange', 10),\n",
      "    ],\n",
      "    'Tom' : [\n",
      "        ('peaches', 2),\n",
      "    ],\n",
      "}\n",
      "fruits.items()"
     ],
     "language": "python",
     "metadata": {},
     "outputs": []
    },
    {
     "cell_type": "markdown",
     "metadata": {},
     "source": [
      "Filtrujemy \"baz\u0119\" z owoc\u00f3w Johna:"
     ]
    },
    {
     "cell_type": "code",
     "collapsed": false,
     "input": [
      "filter(lambda x: x[0] in ['Merry', 'Tom'], fruits.items())"
     ],
     "language": "python",
     "metadata": {},
     "outputs": []
    },
    {
     "cell_type": "markdown",
     "metadata": {},
     "source": [
      "Usuwamy imiona, nie s\u0105 nam ju\u017c\u00a0potrzebne:"
     ]
    },
    {
     "cell_type": "code",
     "collapsed": false,
     "input": [
      "map(lambda y: y[1], \n",
      "        filter(lambda x: x[0] in ['Merry', 'Tom'], fruits.items())\n",
      ")"
     ],
     "language": "python",
     "metadata": {},
     "outputs": []
    },
    {
     "cell_type": "markdown",
     "metadata": {},
     "source": [
      "Sklejamy list\u0119 list w jedn\u0105 list\u0119:"
     ]
    },
    {
     "cell_type": "code",
     "collapsed": false,
     "input": [
      "from itertools import chain\n",
      "list(chain(\n",
      "    *map(lambda y: y[1], \n",
      "        filter(lambda x: x[0] in ['Merry', 'Tom'], fruits.items())\n",
      "    )\n",
      "))"
     ],
     "language": "python",
     "metadata": {},
     "outputs": []
    },
    {
     "cell_type": "markdown",
     "metadata": {},
     "source": [
      "Mapujemy list\u0119 tupli na list\u0119 liczb"
     ]
    },
    {
     "cell_type": "code",
     "collapsed": false,
     "input": [
      "map(lambda f: f[1], \n",
      "    chain(\n",
      "        *map(lambda y: y[1], \n",
      "            filter(lambda x: x[0] in ['Merry', 'Tom'], fruits.items())\n",
      "        )\n",
      "    )\n",
      ")"
     ],
     "language": "python",
     "metadata": {},
     "outputs": []
    },
    {
     "cell_type": "markdown",
     "metadata": {},
     "source": [
      "Finalnie redukujemy list\u0119 do sumy element\u00f3w:"
     ]
    },
    {
     "cell_type": "code",
     "collapsed": false,
     "input": [
      "reduce(lambda a, b: a + b, \n",
      "    map(lambda f: f[1], \n",
      "        chain(\n",
      "            *map(lambda y: y[1], \n",
      "                filter(lambda x: x[0] in ['Merry', 'Tom'], fruits.items())\n",
      "            )\n",
      "        )\n",
      "    )\n",
      ")"
     ],
     "language": "python",
     "metadata": {},
     "outputs": []
    },
    {
     "cell_type": "markdown",
     "metadata": {},
     "source": [
      "Mo\u017cemy tak\u017ce u\u017cy\u0107 gotowego operatora dodawania z modu\u0142u operator:"
     ]
    },
    {
     "cell_type": "code",
     "collapsed": false,
     "input": [
      "import operator\n",
      "reduce(operator.add, \n",
      "    map(lambda f: f[1], \n",
      "        chain(\n",
      "            *map(lambda y: y[1], \n",
      "                filter(lambda x: x[0] in ['Merry', 'Tom'], fruits.items())\n",
      "            )\n",
      "        )\n",
      "    )\n",
      ")"
     ],
     "language": "python",
     "metadata": {},
     "outputs": []
    },
    {
     "cell_type": "heading",
     "level": 2,
     "metadata": {},
     "source": [
      "S\u0142owniki (dict) - zaawansowane u\u017cycie"
     ]
    },
    {
     "cell_type": "heading",
     "level": 3,
     "metadata": {},
     "source": [
      "Aktualizacja s\u0142ownika innym s\u0142ownikiem:"
     ]
    },
    {
     "cell_type": "code",
     "collapsed": false,
     "input": [
      "def some_function(**kwargs):\n",
      "    defaults = {\n",
      "        'apple': 1,\n",
      "        'orange': 2,\n",
      "        'peach': 3,\n",
      "    }\n",
      "    defaults.update(kwargs)\n",
      "    print defaults\n",
      "    print 'banana' in defaults\n",
      "\n",
      "some_function()\n",
      "some_function(apple=10)\n",
      "some_function(banana=4)"
     ],
     "language": "python",
     "metadata": {},
     "outputs": [
      {
       "output_type": "stream",
       "stream": "stdout",
       "text": [
        "{'orange': 2, 'apple': 1, 'peach': 3}\n",
        "False\n",
        "{'orange': 2, 'apple': 10, 'peach': 3}\n",
        "False\n",
        "{'orange': 2, 'apple': 1, 'peach': 3, 'banana': 4}\n",
        "True\n"
       ]
      }
     ],
     "prompt_number": 41
    },
    {
     "cell_type": "heading",
     "level": 3,
     "metadata": {},
     "source": [
      "Dict comprehension"
     ]
    },
    {
     "cell_type": "code",
     "collapsed": false,
     "input": [
      "{word: len(word) for word in ['ala', 'ma', 'kota']}"
     ],
     "language": "python",
     "metadata": {},
     "outputs": [
      {
       "metadata": {},
       "output_type": "pyout",
       "prompt_number": 2,
       "text": [
        "{'ala': 3, 'kota': 4, 'ma': 2}"
       ]
      }
     ],
     "prompt_number": 2
    },
    {
     "cell_type": "code",
     "collapsed": false,
     "input": [
      "{car: color for car, color in zip(['ford', 'mustang', 'fiat'], ['white', 'yellow', 'red'])}"
     ],
     "language": "python",
     "metadata": {},
     "outputs": [
      {
       "metadata": {},
       "output_type": "pyout",
       "prompt_number": 40,
       "text": [
        "{'fiat': 'red', 'ford': 'white', 'mustang': 'yellow'}"
       ]
      }
     ],
     "prompt_number": 40
    },
    {
     "cell_type": "heading",
     "level": 3,
     "metadata": {},
     "source": [
      "Default dict"
     ]
    },
    {
     "cell_type": "code",
     "collapsed": false,
     "input": [
      "from collections import defaultdict\n",
      "\n",
      "d = defaultdict(lambda: 0)"
     ],
     "language": "python",
     "metadata": {},
     "outputs": [
      {
       "output_type": "stream",
       "stream": "stdout",
       "text": [
        "667\n",
        "defaultdict(<function <lambda> at 0x7f8040a01320>, {0: 1})\n",
        "667\n",
        "defaultdict(<function <lambda> at 0x7f8040a01320>, {0: 1, 2: 667})\n"
       ]
      }
     ],
     "prompt_number": 49
    },
    {
     "cell_type": "code",
     "collapsed": false,
     "input": [
      "print d[0]"
     ],
     "language": "python",
     "metadata": {},
     "outputs": []
    },
    {
     "cell_type": "code",
     "collapsed": false,
     "input": [
      "d[0] = 1\n",
      "print d"
     ],
     "language": "python",
     "metadata": {},
     "outputs": []
    },
    {
     "cell_type": "code",
     "collapsed": false,
     "input": [
      "print d[2]\n",
      "print d"
     ],
     "language": "python",
     "metadata": {},
     "outputs": []
    },
    {
     "cell_type": "code",
     "collapsed": false,
     "input": [
      "def count_letters(word):\n",
      "    d = {}\n",
      "    for letter in word:\n",
      "        if letter not in d:\n",
      "            d[letter] = 0\n",
      "        d[letter] += 1\n",
      "    return d\n",
      "\n",
      "count_letters('ala')"
     ],
     "language": "python",
     "metadata": {},
     "outputs": [
      {
       "metadata": {},
       "output_type": "pyout",
       "prompt_number": 55,
       "text": [
        "{'a': 2, 'l': 1}"
       ]
      }
     ],
     "prompt_number": 55
    },
    {
     "cell_type": "code",
     "collapsed": false,
     "input": [
      "def count_letters(word):\n",
      "    d = defaultdict(lambda: 0)\n",
      "    for letter in word:\n",
      "        d[letter] += 1\n",
      "    return d\n",
      "\n",
      "count_letters('ala')"
     ],
     "language": "python",
     "metadata": {},
     "outputs": [
      {
       "metadata": {},
       "output_type": "pyout",
       "prompt_number": 59,
       "text": [
        "defaultdict(<function <lambda> at 0x7f8040a01410>, {'a': 2, 'l': 1})"
       ]
      }
     ],
     "prompt_number": 59
    },
    {
     "cell_type": "code",
     "collapsed": false,
     "input": [
      "def count_letters(word):\n",
      "    return {letter: word.count(letter) for letter in word}\n",
      "\n",
      "count_letters('ala')"
     ],
     "language": "python",
     "metadata": {},
     "outputs": [
      {
       "metadata": {},
       "output_type": "pyout",
       "prompt_number": 54,
       "text": [
        "{'a': 2, 'l': 1}"
       ]
      }
     ],
     "prompt_number": 54
    },
    {
     "cell_type": "code",
     "collapsed": false,
     "input": [
      "from collections import Counter\n",
      "\n",
      "Counter('ala')"
     ],
     "language": "python",
     "metadata": {},
     "outputs": [
      {
       "metadata": {},
       "output_type": "pyout",
       "prompt_number": 60,
       "text": [
        "Counter({'a': 2, 'l': 1})"
       ]
      }
     ],
     "prompt_number": 60
    },
    {
     "cell_type": "heading",
     "level": 2,
     "metadata": {},
     "source": [
      "Formatowanie string\u00f3w"
     ]
    },
    {
     "cell_type": "markdown",
     "metadata": {},
     "source": [
      "Proste formatowanie z u\u017cyciem typ\u00f3w:"
     ]
    },
    {
     "cell_type": "code",
     "collapsed": false,
     "input": [
      "'Hi %s, you have %d apples' % ('Marry', 5)"
     ],
     "language": "python",
     "metadata": {},
     "outputs": []
    },
    {
     "cell_type": "markdown",
     "metadata": {},
     "source": [
      "Formatowanie z u\u017cyciem namespace:"
     ]
    },
    {
     "cell_type": "code",
     "collapsed": false,
     "input": [
      "'Hi %(name)s, you have %(fruit_count)d apples' % {'name': 'Marry', 'fruit_count': 5}"
     ],
     "language": "python",
     "metadata": {},
     "outputs": []
    },
    {
     "cell_type": "code",
     "collapsed": false,
     "input": [
      "name = 'Marry'\n",
      "fruit_count = 5\n",
      "'Hi %(name)s, you have %(fruit_count)d apples' % locals()"
     ],
     "language": "python",
     "metadata": {},
     "outputs": [
      {
       "metadata": {},
       "output_type": "pyout",
       "prompt_number": 37,
       "text": [
        "'Hi Marry, you have 5 apples'"
       ]
      }
     ],
     "prompt_number": 37
    },
    {
     "cell_type": "code",
     "collapsed": false,
     "input": [
      "locals()"
     ],
     "language": "python",
     "metadata": {},
     "outputs": [
      {
       "metadata": {},
       "output_type": "pyout",
       "prompt_number": 38,
       "text": [
        "{'In': ['',\n",
        "  u\"{word: len(word) for word in ['ala', 'ma', 'kota'}\",\n",
        "  u\"{word: len(word) for word in ['ala', 'ma', 'kota']}\",\n",
        "  u'sum(i*i for i in range(10))',\n",
        "  u'x = xrange(100)\\nfor el in x:\\n    print el',\n",
        "  u'x = xrange(100)\\nfor el in x:\\n    pass',\n",
        "  u'x = xrange(100)\\nfor el in x:\\n    if el % 100 == 0:\\n        print el\\n    ',\n",
        "  u'x = xrange(100)\\nfor el in x:\\n    if el % 10 == 0:\\n        print el\\n    ',\n",
        "  u'x = xrange(100)',\n",
        "  u'for el in x:\\n    if el % 10 == 0:\\n        print el',\n",
        "  u'for el in x:\\n    if el % 10 == 0:\\n        print el',\n",
        "  u'for el in x:\\n    if el % 10 == 0:\\n        print el',\n",
        "  u'for el in x:\\n    if el % 10 == 0:\\n        print el',\n",
        "  u'for el in x:\\n    if el % 10 == 0:\\n        print el',\n",
        "  u'x = xrange(100)\\nprint x',\n",
        "  u'x = range_10()\\nprint x',\n",
        "  u'def range_10():\\n    i = 0\\n    while i < 10:\\n        yield i\\n        i += 1\\n        \\nrange_10()',\n",
        "  u'x = range_10()\\nprint x',\n",
        "  u'for el in x:\\n    print el',\n",
        "  u'for el in x:\\n    print el',\n",
        "  u'x = range_10()\\nprint x',\n",
        "  u'for el in x:\\n    print el',\n",
        "  u'for el in x:\\n    print el',\n",
        "  u'for el in x:\\n    print el    ',\n",
        "  u'from itertools import * # normalnie tak nie importujemy \\nlist(chain([1, 2, 3], [4, 5, 6]))',\n",
        "  u\"list(combinations('ABCD', 2))\",\n",
        "  u\"list(permutations('ABCD', 2))\",\n",
        "  u\"list(combinations_with_replacement('ABCD', 2))\",\n",
        "  u\"list(groupby('AAAABBBCCDAABBB'))\",\n",
        "  u\"for g in groupby('AAAABBBCCDAABBB'):\\n    print g[0], list(g[1])\",\n",
        "  u\"list(islice(cycle('ABCD'), 0, 10))\",\n",
        "  u\"list(izip([1, 2, 3], 'ABC'))\",\n",
        "  u\"list(product('ABC', 'XY'))\",\n",
        "  u\"iterator = permutations('ABC', 2)\\nprint iterator\\nprint list(iterator)\\nprint list(iterator)\",\n",
        "  u\"iterator = permutations('ABC', 2)\\niterator1, iterator2 = tee(iterator, 2)\\nprint iterator1, iterator2\\nprint list(iterator1)\\nprint list(iterator2)\\nprint list(iterator)\",\n",
        "  u\"name = 'Marry'\\nfruit_count = 5\\n'Hi %(name)s, you have %(fruit_count)d apples' % locals()\",\n",
        "  u\"name = 'Marry'\\nfruit_count = 5\\n'Hi %(name)s, you have %(fruit_count)d apples' % locals()\",\n",
        "  u\"name = 'Marry'\\nfruit_count = 5\\n'Hi %(name)s, you have %(fruit_count)d apples' % locals()\",\n",
        "  u'locals()'],\n",
        " 'Out': {2: {'ala': 3, 'kota': 4, 'ma': 2},\n",
        "  3: 285,\n",
        "  16: <generator object range_10 at 0x7f8040adafa0>,\n",
        "  24: [1, 2, 3, 4, 5, 6],\n",
        "  25: [('A', 'B'), ('A', 'C'), ('A', 'D'), ('B', 'C'), ('B', 'D'), ('C', 'D')],\n",
        "  26: [('A', 'B'),\n",
        "   ('A', 'C'),\n",
        "   ('A', 'D'),\n",
        "   ('B', 'A'),\n",
        "   ('B', 'C'),\n",
        "   ('B', 'D'),\n",
        "   ('C', 'A'),\n",
        "   ('C', 'B'),\n",
        "   ('C', 'D'),\n",
        "   ('D', 'A'),\n",
        "   ('D', 'B'),\n",
        "   ('D', 'C')],\n",
        "  27: [('A', 'A'),\n",
        "   ('A', 'B'),\n",
        "   ('A', 'C'),\n",
        "   ('A', 'D'),\n",
        "   ('B', 'B'),\n",
        "   ('B', 'C'),\n",
        "   ('B', 'D'),\n",
        "   ('C', 'C'),\n",
        "   ('C', 'D'),\n",
        "   ('D', 'D')],\n",
        "  28: [('A', <itertools._grouper at 0x7f8040ad8a90>),\n",
        "   ('B', <itertools._grouper at 0x7f8040ad8c10>),\n",
        "   ('C', <itertools._grouper at 0x7f8040ad8b50>),\n",
        "   ('D', <itertools._grouper at 0x7f8040ad8ad0>),\n",
        "   ('A', <itertools._grouper at 0x7f8040a12590>),\n",
        "   ('B', <itertools._grouper at 0x7f8040a12ad0>)],\n",
        "  30: ['A', 'B', 'C', 'D', 'A', 'B', 'C', 'D', 'A', 'B'],\n",
        "  31: [(1, 'A'), (2, 'B'), (3, 'C')],\n",
        "  32: [('A', 'X'), ('A', 'Y'), ('B', 'X'), ('B', 'Y'), ('C', 'X'), ('C', 'Y')],\n",
        "  35: 'Hi Marry, you have 5 apples',\n",
        "  36: 'Hi Marry, you have 5 apples',\n",
        "  37: 'Hi Marry, you have 5 apples'},\n",
        " '_': 'Hi Marry, you have 5 apples',\n",
        " '_16': <generator object range_10 at 0x7f8040adafa0>,\n",
        " '_2': {'ala': 3, 'kota': 4, 'ma': 2},\n",
        " '_24': [1, 2, 3, 4, 5, 6],\n",
        " '_25': [('A', 'B'),\n",
        "  ('A', 'C'),\n",
        "  ('A', 'D'),\n",
        "  ('B', 'C'),\n",
        "  ('B', 'D'),\n",
        "  ('C', 'D')],\n",
        " '_26': [('A', 'B'),\n",
        "  ('A', 'C'),\n",
        "  ('A', 'D'),\n",
        "  ('B', 'A'),\n",
        "  ('B', 'C'),\n",
        "  ('B', 'D'),\n",
        "  ('C', 'A'),\n",
        "  ('C', 'B'),\n",
        "  ('C', 'D'),\n",
        "  ('D', 'A'),\n",
        "  ('D', 'B'),\n",
        "  ('D', 'C')],\n",
        " '_27': [('A', 'A'),\n",
        "  ('A', 'B'),\n",
        "  ('A', 'C'),\n",
        "  ('A', 'D'),\n",
        "  ('B', 'B'),\n",
        "  ('B', 'C'),\n",
        "  ('B', 'D'),\n",
        "  ('C', 'C'),\n",
        "  ('C', 'D'),\n",
        "  ('D', 'D')],\n",
        " '_28': [('A', <itertools._grouper at 0x7f8040ad8a90>),\n",
        "  ('B', <itertools._grouper at 0x7f8040ad8c10>),\n",
        "  ('C', <itertools._grouper at 0x7f8040ad8b50>),\n",
        "  ('D', <itertools._grouper at 0x7f8040ad8ad0>),\n",
        "  ('A', <itertools._grouper at 0x7f8040a12590>),\n",
        "  ('B', <itertools._grouper at 0x7f8040a12ad0>)],\n",
        " '_3': 285,\n",
        " '_30': ['A', 'B', 'C', 'D', 'A', 'B', 'C', 'D', 'A', 'B'],\n",
        " '_31': [(1, 'A'), (2, 'B'), (3, 'C')],\n",
        " '_32': [('A', 'X'),\n",
        "  ('A', 'Y'),\n",
        "  ('B', 'X'),\n",
        "  ('B', 'Y'),\n",
        "  ('C', 'X'),\n",
        "  ('C', 'Y')],\n",
        " '_35': 'Hi Marry, you have 5 apples',\n",
        " '_36': 'Hi Marry, you have 5 apples',\n",
        " '_37': 'Hi Marry, you have 5 apples',\n",
        " '__': 'Hi Marry, you have 5 apples',\n",
        " '___': 'Hi Marry, you have 5 apples',\n",
        " '__builtin__': <module '__builtin__' (built-in)>,\n",
        " '__builtins__': <module '__builtin__' (built-in)>,\n",
        " '__doc__': 'Automatically created module for IPython interactive environment',\n",
        " '__name__': '__main__',\n",
        " '__package__': None,\n",
        " '_dh': [u'/media/big/backups/Dropbox/python'],\n",
        " '_i': u\"name = 'Marry'\\nfruit_count = 5\\n'Hi %(name)s, you have %(fruit_count)d apples' % locals()\",\n",
        " '_i1': u\"{word: len(word) for word in ['ala', 'ma', 'kota'}\",\n",
        " '_i10': u'for el in x:\\n    if el % 10 == 0:\\n        print el',\n",
        " '_i11': u'for el in x:\\n    if el % 10 == 0:\\n        print el',\n",
        " '_i12': u'for el in x:\\n    if el % 10 == 0:\\n        print el',\n",
        " '_i13': u'for el in x:\\n    if el % 10 == 0:\\n        print el',\n",
        " '_i14': u'x = xrange(100)\\nprint x',\n",
        " '_i15': u'x = range_10()\\nprint x',\n",
        " '_i16': u'def range_10():\\n    i = 0\\n    while i < 10:\\n        yield i\\n        i += 1\\n        \\nrange_10()',\n",
        " '_i17': u'x = range_10()\\nprint x',\n",
        " '_i18': u'for el in x:\\n    print el',\n",
        " '_i19': u'for el in x:\\n    print el',\n",
        " '_i2': u\"{word: len(word) for word in ['ala', 'ma', 'kota']}\",\n",
        " '_i20': u'x = range_10()\\nprint x',\n",
        " '_i21': u'for el in x:\\n    print el',\n",
        " '_i22': u'for el in x:\\n    print el',\n",
        " '_i23': u'for el in x:\\n    print el    ',\n",
        " '_i24': u'from itertools import * # normalnie tak nie importujemy \\nlist(chain([1, 2, 3], [4, 5, 6]))',\n",
        " '_i25': u\"list(combinations('ABCD', 2))\",\n",
        " '_i26': u\"list(permutations('ABCD', 2))\",\n",
        " '_i27': u\"list(combinations_with_replacement('ABCD', 2))\",\n",
        " '_i28': u\"list(groupby('AAAABBBCCDAABBB'))\",\n",
        " '_i29': u\"for g in groupby('AAAABBBCCDAABBB'):\\n    print g[0], list(g[1])\",\n",
        " '_i3': u'sum(i*i for i in range(10))',\n",
        " '_i30': u\"list(islice(cycle('ABCD'), 0, 10))\",\n",
        " '_i31': u\"list(izip([1, 2, 3], 'ABC'))\",\n",
        " '_i32': u\"list(product('ABC', 'XY'))\",\n",
        " '_i33': u\"iterator = permutations('ABC', 2)\\nprint iterator\\nprint list(iterator)\\nprint list(iterator)\",\n",
        " '_i34': u\"iterator = permutations('ABC', 2)\\niterator1, iterator2 = tee(iterator, 2)\\nprint iterator1, iterator2\\nprint list(iterator1)\\nprint list(iterator2)\\nprint list(iterator)\",\n",
        " '_i35': u\"name = 'Marry'\\nfruit_count = 5\\n'Hi %(name)s, you have %(fruit_count)d apples' % locals()\",\n",
        " '_i36': u\"name = 'Marry'\\nfruit_count = 5\\n'Hi %(name)s, you have %(fruit_count)d apples' % locals()\",\n",
        " '_i37': u\"name = 'Marry'\\nfruit_count = 5\\n'Hi %(name)s, you have %(fruit_count)d apples' % locals()\",\n",
        " '_i38': u'locals()',\n",
        " '_i4': u'x = xrange(100)\\nfor el in x:\\n    print el',\n",
        " '_i5': u'x = xrange(100)\\nfor el in x:\\n    pass',\n",
        " '_i6': u'x = xrange(100)\\nfor el in x:\\n    if el % 100 == 0:\\n        print el\\n    ',\n",
        " '_i7': u'x = xrange(100)\\nfor el in x:\\n    if el % 10 == 0:\\n        print el\\n    ',\n",
        " '_i8': u'x = xrange(100)',\n",
        " '_i9': u'for el in x:\\n    if el % 10 == 0:\\n        print el',\n",
        " '_ih': ['',\n",
        "  u\"{word: len(word) for word in ['ala', 'ma', 'kota'}\",\n",
        "  u\"{word: len(word) for word in ['ala', 'ma', 'kota']}\",\n",
        "  u'sum(i*i for i in range(10))',\n",
        "  u'x = xrange(100)\\nfor el in x:\\n    print el',\n",
        "  u'x = xrange(100)\\nfor el in x:\\n    pass',\n",
        "  u'x = xrange(100)\\nfor el in x:\\n    if el % 100 == 0:\\n        print el\\n    ',\n",
        "  u'x = xrange(100)\\nfor el in x:\\n    if el % 10 == 0:\\n        print el\\n    ',\n",
        "  u'x = xrange(100)',\n",
        "  u'for el in x:\\n    if el % 10 == 0:\\n        print el',\n",
        "  u'for el in x:\\n    if el % 10 == 0:\\n        print el',\n",
        "  u'for el in x:\\n    if el % 10 == 0:\\n        print el',\n",
        "  u'for el in x:\\n    if el % 10 == 0:\\n        print el',\n",
        "  u'for el in x:\\n    if el % 10 == 0:\\n        print el',\n",
        "  u'x = xrange(100)\\nprint x',\n",
        "  u'x = range_10()\\nprint x',\n",
        "  u'def range_10():\\n    i = 0\\n    while i < 10:\\n        yield i\\n        i += 1\\n        \\nrange_10()',\n",
        "  u'x = range_10()\\nprint x',\n",
        "  u'for el in x:\\n    print el',\n",
        "  u'for el in x:\\n    print el',\n",
        "  u'x = range_10()\\nprint x',\n",
        "  u'for el in x:\\n    print el',\n",
        "  u'for el in x:\\n    print el',\n",
        "  u'for el in x:\\n    print el    ',\n",
        "  u'from itertools import * # normalnie tak nie importujemy \\nlist(chain([1, 2, 3], [4, 5, 6]))',\n",
        "  u\"list(combinations('ABCD', 2))\",\n",
        "  u\"list(permutations('ABCD', 2))\",\n",
        "  u\"list(combinations_with_replacement('ABCD', 2))\",\n",
        "  u\"list(groupby('AAAABBBCCDAABBB'))\",\n",
        "  u\"for g in groupby('AAAABBBCCDAABBB'):\\n    print g[0], list(g[1])\",\n",
        "  u\"list(islice(cycle('ABCD'), 0, 10))\",\n",
        "  u\"list(izip([1, 2, 3], 'ABC'))\",\n",
        "  u\"list(product('ABC', 'XY'))\",\n",
        "  u\"iterator = permutations('ABC', 2)\\nprint iterator\\nprint list(iterator)\\nprint list(iterator)\",\n",
        "  u\"iterator = permutations('ABC', 2)\\niterator1, iterator2 = tee(iterator, 2)\\nprint iterator1, iterator2\\nprint list(iterator1)\\nprint list(iterator2)\\nprint list(iterator)\",\n",
        "  u\"name = 'Marry'\\nfruit_count = 5\\n'Hi %(name)s, you have %(fruit_count)d apples' % locals()\",\n",
        "  u\"name = 'Marry'\\nfruit_count = 5\\n'Hi %(name)s, you have %(fruit_count)d apples' % locals()\",\n",
        "  u\"name = 'Marry'\\nfruit_count = 5\\n'Hi %(name)s, you have %(fruit_count)d apples' % locals()\",\n",
        "  u'locals()'],\n",
        " '_ii': u\"name = 'Marry'\\nfruit_count = 5\\n'Hi %(name)s, you have %(fruit_count)d apples' % locals()\",\n",
        " '_iii': u\"name = 'Marry'\\nfruit_count = 5\\n'Hi %(name)s, you have %(fruit_count)d apples' % locals()\",\n",
        " '_oh': {2: {'ala': 3, 'kota': 4, 'ma': 2},\n",
        "  3: 285,\n",
        "  16: <generator object range_10 at 0x7f8040adafa0>,\n",
        "  24: [1, 2, 3, 4, 5, 6],\n",
        "  25: [('A', 'B'), ('A', 'C'), ('A', 'D'), ('B', 'C'), ('B', 'D'), ('C', 'D')],\n",
        "  26: [('A', 'B'),\n",
        "   ('A', 'C'),\n",
        "   ('A', 'D'),\n",
        "   ('B', 'A'),\n",
        "   ('B', 'C'),\n",
        "   ('B', 'D'),\n",
        "   ('C', 'A'),\n",
        "   ('C', 'B'),\n",
        "   ('C', 'D'),\n",
        "   ('D', 'A'),\n",
        "   ('D', 'B'),\n",
        "   ('D', 'C')],\n",
        "  27: [('A', 'A'),\n",
        "   ('A', 'B'),\n",
        "   ('A', 'C'),\n",
        "   ('A', 'D'),\n",
        "   ('B', 'B'),\n",
        "   ('B', 'C'),\n",
        "   ('B', 'D'),\n",
        "   ('C', 'C'),\n",
        "   ('C', 'D'),\n",
        "   ('D', 'D')],\n",
        "  28: [('A', <itertools._grouper at 0x7f8040ad8a90>),\n",
        "   ('B', <itertools._grouper at 0x7f8040ad8c10>),\n",
        "   ('C', <itertools._grouper at 0x7f8040ad8b50>),\n",
        "   ('D', <itertools._grouper at 0x7f8040ad8ad0>),\n",
        "   ('A', <itertools._grouper at 0x7f8040a12590>),\n",
        "   ('B', <itertools._grouper at 0x7f8040a12ad0>)],\n",
        "  30: ['A', 'B', 'C', 'D', 'A', 'B', 'C', 'D', 'A', 'B'],\n",
        "  31: [(1, 'A'), (2, 'B'), (3, 'C')],\n",
        "  32: [('A', 'X'), ('A', 'Y'), ('B', 'X'), ('B', 'Y'), ('C', 'X'), ('C', 'Y')],\n",
        "  35: 'Hi Marry, you have 5 apples',\n",
        "  36: 'Hi Marry, you have 5 apples',\n",
        "  37: 'Hi Marry, you have 5 apples'},\n",
        " '_sh': <module 'IPython.core.shadowns' from '/home/lejlot/anaconda/lib/python2.7/site-packages/IPython/core/shadowns.pyc'>,\n",
        " 'chain': itertools.chain,\n",
        " 'combinations': itertools.combinations,\n",
        " 'combinations_with_replacement': itertools.combinations_with_replacement,\n",
        " 'compress': itertools.compress,\n",
        " 'count': itertools.count,\n",
        " 'cycle': itertools.cycle,\n",
        " 'dropwhile': itertools.dropwhile,\n",
        " 'el': 9,\n",
        " 'exit': <IPython.core.autocall.ZMQExitAutocall at 0x7f8044a4ded0>,\n",
        " 'fruit_count': 5,\n",
        " 'g': ('B', <itertools._grouper at 0x7f8040a12b10>),\n",
        " 'get_ipython': <bound method ZMQInteractiveShell.get_ipython of <IPython.kernel.zmq.zmqshell.ZMQInteractiveShell object at 0x7f8044a43d50>>,\n",
        " 'groupby': itertools.groupby,\n",
        " 'help': Type help() for interactive help, or help(object) for help about object.,\n",
        " 'ifilter': itertools.ifilter,\n",
        " 'ifilterfalse': itertools.ifilterfalse,\n",
        " 'imap': itertools.imap,\n",
        " 'islice': itertools.islice,\n",
        " 'iterator': <itertools.permutations at 0x7f8040a73dd0>,\n",
        " 'iterator1': <itertools.tee at 0x7f804220cb90>,\n",
        " 'iterator2': <itertools.tee at 0x7f80409f2a70>,\n",
        " 'izip': itertools.izip,\n",
        " 'izip_longest': itertools.izip_longest,\n",
        " 'name': 'Marry',\n",
        " 'permutations': itertools.permutations,\n",
        " 'product': itertools.product,\n",
        " 'quit': <IPython.core.autocall.ZMQExitAutocall at 0x7f8044a4ded0>,\n",
        " 'range_10': <function __main__.range_10>,\n",
        " 'repeat': itertools.repeat,\n",
        " 'starmap': itertools.starmap,\n",
        " 'takewhile': itertools.takewhile,\n",
        " 'tee': <function itertools.tee>,\n",
        " 'x': <generator object range_10 at 0x7f8040a761e0>}"
       ]
      }
     ],
     "prompt_number": 38
    },
    {
     "cell_type": "markdown",
     "metadata": {},
     "source": [
      "Metoda ``format()`` napisu:"
     ]
    },
    {
     "cell_type": "code",
     "collapsed": false,
     "input": [
      "'Hi {0}, you have {1} apples'.format('Marry', 5)"
     ],
     "language": "python",
     "metadata": {},
     "outputs": []
    },
    {
     "cell_type": "code",
     "collapsed": false,
     "input": [
      "'Hi {name}, you have {fruit_count} apples'.format(name='Marry', fruit_count=5)"
     ],
     "language": "python",
     "metadata": {},
     "outputs": []
    },
    {
     "cell_type": "heading",
     "level": 2,
     "metadata": {},
     "source": [
      "Generatory i iteratory"
     ]
    },
    {
     "cell_type": "markdown",
     "metadata": {},
     "source": [
      "* Generator\u00f3w i iterator\u00f3w u\u017cywamy, aby oszcz\u0119dzi\u0107 pami\u0119ci (a tak\u017ce czasu potrzebnego na jej alokacj\u0119). \n",
      "* Zysk wydajno\u015bci powstaje przez omini\u0119cie potrzeby tworzenia tymczasowych struktur po\u015brednich w pami\u0119ci, gdy zamiast tego mo\u017cemy przeiterowa\u0107 kolejno po elementach i finalnie zapisa\u0107 tylko te kt\u00f3re s\u0105 potrzebne.\n",
      "* Iteratorem jest dowolny obiekt (kolekcja) dostarczaj\u0105cy nast\u0119puj\u0105cego interfejsu:\n",
      "    * ``__iter__()`` - zwraca obiekt iteratora (je\u015bli wywo\u0142ane na kolekcji)\n",
      "    * ``next()`` - zwraca kolejny element iteratora lub rzuca wyj\u0105tek StopIteration \n",
      "* Interfejsu iteratorow nie u\u017cywamy najcz\u0119\u015bciej sami w kodzie, obiekty iterator\u00f3w pojawiaj\u0105 si\u0119 w kontekstach iteracji i s\u0105 automatycznie u\u017cywane\n",
      "* Generatorem jest funkcja kt\u00f3ra zwraca iterator. Ka\u017cda funkcja posiadaj\u0105ca wyra\u017cenie yield jest generatorem"
     ]
    },
    {
     "cell_type": "code",
     "collapsed": false,
     "input": [
      "range(10)"
     ],
     "language": "python",
     "metadata": {},
     "outputs": []
    },
    {
     "cell_type": "code",
     "collapsed": false,
     "input": [
      "filter(lambda x: x % 4 == 0, range(10))"
     ],
     "language": "python",
     "metadata": {},
     "outputs": []
    },
    {
     "cell_type": "code",
     "collapsed": false,
     "input": [
      "map(lambda y: y*y, filter(lambda x: x % 4 == 0, range(10)))"
     ],
     "language": "python",
     "metadata": {},
     "outputs": []
    },
    {
     "cell_type": "markdown",
     "metadata": {},
     "source": [
      "Teraz to samo na iteratorach:"
     ]
    },
    {
     "cell_type": "code",
     "collapsed": false,
     "input": [
      "xrange(10)"
     ],
     "language": "python",
     "metadata": {},
     "outputs": []
    },
    {
     "cell_type": "code",
     "collapsed": false,
     "input": [
      "def range_10():\n",
      "    i = 0\n",
      "    while i < 10:\n",
      "        yield i\n",
      "        i += 1\n",
      "        \n",
      "range_10()"
     ],
     "language": "python",
     "metadata": {},
     "outputs": [
      {
       "metadata": {},
       "output_type": "pyout",
       "prompt_number": 16,
       "text": [
        "<generator object range_10 at 0x7f8040adafa0>"
       ]
      }
     ],
     "prompt_number": 16
    },
    {
     "cell_type": "code",
     "collapsed": false,
     "input": [
      "list(range_10())"
     ],
     "language": "python",
     "metadata": {},
     "outputs": []
    },
    {
     "cell_type": "code",
     "collapsed": false,
     "input": [
      "from itertools import imap, ifilter\n",
      "imap(lambda y: y*y, ifilter(lambda x: x % 4 == 0, xrange(10)))"
     ],
     "language": "python",
     "metadata": {},
     "outputs": []
    },
    {
     "cell_type": "code",
     "collapsed": false,
     "input": [
      "list(imap(lambda y: y*y, ifilter(lambda x: x % 4 == 0, xrange(10))))"
     ],
     "language": "python",
     "metadata": {},
     "outputs": []
    },
    {
     "cell_type": "heading",
     "level": 3,
     "metadata": {},
     "source": [
      "Generator expression"
     ]
    },
    {
     "cell_type": "markdown",
     "metadata": {},
     "source": [
      "Generator mo\u017cna tak\u017ce wyrazi\u0107 za pomoc\u0105\u00a0konstrukcji `` wyra\u017cenie for zmienne in sekwencja``:"
     ]
    },
    {
     "cell_type": "code",
     "collapsed": false,
     "input": [
      "sum(i*i for i in range(10))"
     ],
     "language": "python",
     "metadata": {},
     "outputs": [
      {
       "metadata": {},
       "output_type": "pyout",
       "prompt_number": 3,
       "text": [
        "285"
       ]
      }
     ],
     "prompt_number": 3
    },
    {
     "cell_type": "heading",
     "level": 3,
     "metadata": {},
     "source": [
      "List comprehension (jeszcze raz)"
     ]
    },
    {
     "cell_type": "markdown",
     "metadata": {},
     "source": [
      "Technicznie wi\u0119c ujmuj\u0105c **list comprehension = lista + wyra\u017cenie generatora**:"
     ]
    },
    {
     "cell_type": "code",
     "collapsed": false,
     "input": [
      "[i*i for i in range(10)]"
     ],
     "language": "python",
     "metadata": {},
     "outputs": []
    },
    {
     "cell_type": "heading",
     "level": 3,
     "metadata": {},
     "source": [
      "uwaga!"
     ]
    },
    {
     "cell_type": "code",
     "collapsed": false,
     "input": [
      "x = range_10()\n",
      "print x"
     ],
     "language": "python",
     "metadata": {},
     "outputs": [
      {
       "output_type": "stream",
       "stream": "stdout",
       "text": [
        "<generator object range_10 at 0x7f8040a761e0>\n"
       ]
      }
     ],
     "prompt_number": 20
    },
    {
     "cell_type": "code",
     "collapsed": false,
     "input": [
      "for el in x:\n",
      "    print el    "
     ],
     "language": "python",
     "metadata": {},
     "outputs": [],
     "prompt_number": 23
    },
    {
     "cell_type": "code",
     "collapsed": false,
     "input": [
      "for el in x:\n",
      "    print el    "
     ],
     "language": "python",
     "metadata": {},
     "outputs": []
    },
    {
     "cell_type": "heading",
     "level": 3,
     "metadata": {},
     "source": [
      "Modu\u0142 itertools"
     ]
    },
    {
     "cell_type": "code",
     "collapsed": false,
     "input": [],
     "language": "python",
     "metadata": {},
     "outputs": []
    },
    {
     "cell_type": "markdown",
     "metadata": {},
     "source": [
      "Szczeg\u00f3lnie warty uwagi jest modu\u0142 itertools, kt\u00f3ry dostarcza bardzo wiele ciekawych narz\u0119dzi pracuj\u0105cych na iteratorach pomocnych do zaawansowanego programowania funkcyjnego. Wybrane ciekawe funkcje:"
     ]
    },
    {
     "cell_type": "code",
     "collapsed": false,
     "input": [
      "from itertools import * # normalnie tak nie importujemy \n",
      "list(chain([1, 2, 3], [4, 5, 6]))"
     ],
     "language": "python",
     "metadata": {},
     "outputs": [
      {
       "metadata": {},
       "output_type": "pyout",
       "prompt_number": 24,
       "text": [
        "[1, 2, 3, 4, 5, 6]"
       ]
      }
     ],
     "prompt_number": 24
    },
    {
     "cell_type": "code",
     "collapsed": false,
     "input": [
      "list(combinations('ABCD', 2))"
     ],
     "language": "python",
     "metadata": {},
     "outputs": [
      {
       "metadata": {},
       "output_type": "pyout",
       "prompt_number": 25,
       "text": [
        "[('A', 'B'), ('A', 'C'), ('A', 'D'), ('B', 'C'), ('B', 'D'), ('C', 'D')]"
       ]
      }
     ],
     "prompt_number": 25
    },
    {
     "cell_type": "code",
     "collapsed": false,
     "input": [
      "list(permutations('ABCD', 2))"
     ],
     "language": "python",
     "metadata": {},
     "outputs": [
      {
       "metadata": {},
       "output_type": "pyout",
       "prompt_number": 26,
       "text": [
        "[('A', 'B'),\n",
        " ('A', 'C'),\n",
        " ('A', 'D'),\n",
        " ('B', 'A'),\n",
        " ('B', 'C'),\n",
        " ('B', 'D'),\n",
        " ('C', 'A'),\n",
        " ('C', 'B'),\n",
        " ('C', 'D'),\n",
        " ('D', 'A'),\n",
        " ('D', 'B'),\n",
        " ('D', 'C')]"
       ]
      }
     ],
     "prompt_number": 26
    },
    {
     "cell_type": "code",
     "collapsed": false,
     "input": [
      "list(combinations_with_replacement('ABCD', 2))"
     ],
     "language": "python",
     "metadata": {},
     "outputs": [
      {
       "metadata": {},
       "output_type": "pyout",
       "prompt_number": 27,
       "text": [
        "[('A', 'A'),\n",
        " ('A', 'B'),\n",
        " ('A', 'C'),\n",
        " ('A', 'D'),\n",
        " ('B', 'B'),\n",
        " ('B', 'C'),\n",
        " ('B', 'D'),\n",
        " ('C', 'C'),\n",
        " ('C', 'D'),\n",
        " ('D', 'D')]"
       ]
      }
     ],
     "prompt_number": 27
    },
    {
     "cell_type": "code",
     "collapsed": false,
     "input": [
      "list(islice(cycle('ABCD'), 0, 10))"
     ],
     "language": "python",
     "metadata": {},
     "outputs": [
      {
       "metadata": {},
       "output_type": "pyout",
       "prompt_number": 30,
       "text": [
        "['A', 'B', 'C', 'D', 'A', 'B', 'C', 'D', 'A', 'B']"
       ]
      }
     ],
     "prompt_number": 30
    },
    {
     "cell_type": "code",
     "collapsed": false,
     "input": [
      "list(izip([1, 2, 3], 'ABC'))"
     ],
     "language": "python",
     "metadata": {},
     "outputs": [
      {
       "metadata": {},
       "output_type": "pyout",
       "prompt_number": 31,
       "text": [
        "[(1, 'A'), (2, 'B'), (3, 'C')]"
       ]
      }
     ],
     "prompt_number": 31
    },
    {
     "cell_type": "code",
     "collapsed": false,
     "input": [
      "list(product('ABC', 'XY'))"
     ],
     "language": "python",
     "metadata": {},
     "outputs": [
      {
       "metadata": {},
       "output_type": "pyout",
       "prompt_number": 32,
       "text": [
        "[('A', 'X'), ('A', 'Y'), ('B', 'X'), ('B', 'Y'), ('C', 'X'), ('C', 'Y')]"
       ]
      }
     ],
     "prompt_number": 32
    },
    {
     "cell_type": "code",
     "collapsed": false,
     "input": [
      "iterator = permutations('ABC', 2)\n",
      "print iterator\n",
      "print list(iterator)\n",
      "print list(iterator)"
     ],
     "language": "python",
     "metadata": {},
     "outputs": [
      {
       "output_type": "stream",
       "stream": "stdout",
       "text": [
        "<itertools.permutations object at 0x7f8040a73b90>\n",
        "[('A', 'B'), ('A', 'C'), ('B', 'A'), ('B', 'C'), ('C', 'A'), ('C', 'B')]\n",
        "[]\n"
       ]
      }
     ],
     "prompt_number": 33
    },
    {
     "cell_type": "code",
     "collapsed": false,
     "input": [
      "iterator = permutations('ABC', 2)\n",
      "iterator1, iterator2 = tee(iterator, 2)\n",
      "print iterator1, iterator2\n",
      "print list(iterator1)\n",
      "print list(iterator2)\n",
      "print list(iterator)\n"
     ],
     "language": "python",
     "metadata": {},
     "outputs": [
      {
       "output_type": "stream",
       "stream": "stdout",
       "text": [
        "<itertools.tee object at 0x7f804220cb90> <itertools.tee object at 0x7f80409f2a70>\n",
        "[('A', 'B'), ('A', 'C'), ('B', 'A'), ('B', 'C'), ('C', 'A'), ('C', 'B')]\n",
        "[('A', 'B'), ('A', 'C'), ('B', 'A'), ('B', 'C'), ('C', 'A'), ('C', 'B')]\n",
        "[]\n"
       ]
      }
     ],
     "prompt_number": 34
    }
   ],
   "metadata": {}
  }
 ]
}
