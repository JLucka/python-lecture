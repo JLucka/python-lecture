{
 "metadata": {
  "kernelspec": {
   "display_name": "Python 2",
   "language": "python",
   "name": "python2"
  },
  "language_info": {
   "codemirror_mode": {
    "name": "ipython",
    "version": 2
   },
   "file_extension": ".py",
   "mimetype": "text/x-python",
   "name": "python",
   "nbconvert_exporter": "python",
   "pygments_lexer": "ipython2",
   "version": "2.7.9"
  },
  "name": ""
 },
 "nbformat": 3,
 "nbformat_minor": 0,
 "worksheets": [
  {
   "cells": [
    {
     "cell_type": "heading",
     "level": 1,
     "metadata": {},
     "source": [
      "J\u0119zyk Python - Wyk\u0142ad 10.5"
     ]
    },
    {
     "cell_type": "markdown",
     "metadata": {},
     "source": [
      "### Nadchodzace wyklady/zajecia\n",
      "\n",
      "* 19 maja - Tworzenie GUI [dzis]\n",
      "* *26 maja* - zajecia nie odbeda sie [CORES]\n",
      "* 2 czerwca - (prawdopodobnie) wyk\u0142ad go\u015bcinny\n",
      "* ---DEADLINE PROJEKTOW---\n",
      "* 9 czerwca - Cython \n",
      "* *16 czerwca* - poczatek sesji"
     ]
    },
    {
     "cell_type": "markdown",
     "metadata": {},
     "source": [
      "#### Terminy mojej nieobecnosci\n",
      "\n",
      "* 21-27 maja [BDmeetsML + CORES]\n",
      "* 14-18 czerwca [ICAISC]"
     ]
    },
    {
     "cell_type": "heading",
     "level": 4,
     "metadata": {},
     "source": [
      "Projekty - mini projekt"
     ]
    },
    {
     "cell_type": "markdown",
     "metadata": {},
     "source": [
      "* Deadline: 31 maja 2015, 23:59\n",
      "* Forma: kod na GH + post na forum z informacja ze jest \"gotowy\"\n",
      "* Co ma zawierac:\n",
      " - plik .pdf z dokumentacja, opisujaca co znajdzie sie w projekcie, jaka funkcjonalnosc bedzie w nim dostepna, zarysowana architektura calosci\n",
      " - wersja zerowa, tzn. kod, ktory realizuje zadanie z projektu w wybranym, minimalnym stopniu. Np. mamy projekt typu \"gra w tetrisa dla 2 graczy\" to wersja zerowa moze byc tetris na 1 osobe, bez GUI, menu i grafiki, sama podstawowa logika\n",
      " \n"
     ]
    }
   ],
   "metadata": {}
  }
 ]
}