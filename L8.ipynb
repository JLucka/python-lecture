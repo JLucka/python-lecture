{
 "metadata": {
  "kernelspec": {
   "display_name": "Python 2",
   "language": "python",
   "name": "python2"
  },
  "language_info": {
   "codemirror_mode": {
    "name": "ipython",
    "version": 2
   },
   "file_extension": ".py",
   "mimetype": "text/x-python",
   "name": "python",
   "nbconvert_exporter": "python",
   "pygments_lexer": "ipython2",
   "version": "2.7.9"
  },
  "name": ""
 },
 "nbformat": 3,
 "nbformat_minor": 0,
 "worksheets": [
  {
   "cells": [
    {
     "cell_type": "heading",
     "level": 1,
     "metadata": {},
     "source": [
      "J\u0119zyk Python - Wyk\u0142ad 8."
     ]
    },
    {
     "cell_type": "heading",
     "level": 2,
     "metadata": {},
     "source": [
      "Wydaje obliczenia numeryczne"
     ]
    },
    {
     "cell_type": "markdown",
     "metadata": {},
     "source": [
      "Tworzenie tablic"
     ]
    },
    {
     "cell_type": "code",
     "collapsed": true,
     "input": [
      "def matrix(rows, cols):\n",
      "    return [[0. for col in range(cols)] for row in range(rows)]"
     ],
     "language": "python",
     "metadata": {},
     "outputs": [],
     "prompt_number": null
    },
    {
     "cell_type": "code",
     "collapsed": false,
     "input": [
      "A = matrix(10, 10)\n",
      "from pprint import pprint\n",
      "pprint(A)"
     ],
     "language": "python",
     "metadata": {},
     "outputs": [],
     "prompt_number": null
    },
    {
     "cell_type": "code",
     "collapsed": false,
     "input": [
      "import numpy as np\n",
      "B = np.zeros((10, 10))\n",
      "print B"
     ],
     "language": "python",
     "metadata": {},
     "outputs": [],
     "prompt_number": null
    },
    {
     "cell_type": "code",
     "collapsed": false,
     "input": [
      "C = np.array(A)\n",
      "print C"
     ],
     "language": "python",
     "metadata": {},
     "outputs": [],
     "prompt_number": null
    },
    {
     "cell_type": "code",
     "collapsed": false,
     "input": [
      "D = np.array([[1., 2.], [4., 5.], [6., 7.]])\n",
      "print D"
     ],
     "language": "python",
     "metadata": {},
     "outputs": [],
     "prompt_number": null
    },
    {
     "cell_type": "code",
     "collapsed": false,
     "input": [
      "print D[0, 0]\n",
      "print D[2, 1]"
     ],
     "language": "python",
     "metadata": {},
     "outputs": [],
     "prompt_number": null
    },
    {
     "cell_type": "code",
     "collapsed": false,
     "input": [
      "print D[0]"
     ],
     "language": "python",
     "metadata": {},
     "outputs": [],
     "prompt_number": null
    },
    {
     "cell_type": "code",
     "collapsed": false,
     "input": [
      "print D[0][0]"
     ],
     "language": "python",
     "metadata": {},
     "outputs": [],
     "prompt_number": null
    },
    {
     "cell_type": "code",
     "collapsed": false,
     "input": [
      "print D[:, 0]"
     ],
     "language": "python",
     "metadata": {},
     "outputs": [],
     "prompt_number": null
    },
    {
     "cell_type": "code",
     "collapsed": false,
     "input": [
      "print D.ndim, D.shape"
     ],
     "language": "python",
     "metadata": {},
     "outputs": [],
     "prompt_number": null
    },
    {
     "cell_type": "code",
     "collapsed": false,
     "input": [
      "D[0, 1] = -3\n",
      "print D"
     ],
     "language": "python",
     "metadata": {},
     "outputs": [],
     "prompt_number": null
    },
    {
     "cell_type": "code",
     "collapsed": false,
     "input": [
      "D[0] = -D[2]\n",
      "print D"
     ],
     "language": "python",
     "metadata": {},
     "outputs": [],
     "prompt_number": null
    },
    {
     "cell_type": "code",
     "collapsed": false,
     "input": [
      "D[0, :] = -D[2, :]\n",
      "print D"
     ],
     "language": "python",
     "metadata": {},
     "outputs": [],
     "prompt_number": null
    },
    {
     "cell_type": "code",
     "collapsed": false,
     "input": [
      "E = D # referencje\n",
      "E[0, 0] = 0\n",
      "print E\n",
      "print D"
     ],
     "language": "python",
     "metadata": {},
     "outputs": [],
     "prompt_number": null
    },
    {
     "cell_type": "code",
     "collapsed": false,
     "input": [
      "F = D[:, :] # to tez!\n",
      "F[0, 0] = 3\n",
      "print F\n",
      "print D"
     ],
     "language": "python",
     "metadata": {},
     "outputs": [],
     "prompt_number": null
    },
    {
     "cell_type": "code",
     "collapsed": false,
     "input": [
      "F[:, :] = D # i to ...\n",
      "F[0, 0] = 666\n",
      "print F\n",
      "print D"
     ],
     "language": "python",
     "metadata": {},
     "outputs": [],
     "prompt_number": null
    },
    {
     "cell_type": "code",
     "collapsed": false,
     "input": [
      "F = np.array(D) # to jest ok\n",
      "F[0, 0] = 123\n",
      "print F\n",
      "print D"
     ],
     "language": "python",
     "metadata": {},
     "outputs": [],
     "prompt_number": null
    },
    {
     "cell_type": "code",
     "collapsed": false,
     "input": [
      "F = np.copy(D) # to tez\n",
      "F[0, 0] = 11\n",
      "print F\n",
      "print D"
     ],
     "language": "python",
     "metadata": {},
     "outputs": [],
     "prompt_number": null
    },
    {
     "cell_type": "code",
     "collapsed": false,
     "input": [
      "G = np.zeros(F.shape)\n",
      "print G\n",
      "print F\n",
      "\n",
      "G[0] = F[0]\n",
      "print\n",
      "print G\n",
      "print F\n",
      "\n",
      "F[0][0] = 11\n",
      "print\n",
      "print G\n",
      "print F"
     ],
     "language": "python",
     "metadata": {},
     "outputs": [],
     "prompt_number": null
    },
    {
     "cell_type": "code",
     "collapsed": false,
     "input": [
      "print D\n",
      "print D[0:2]\n",
      "print D[:, -1]"
     ],
     "language": "python",
     "metadata": {},
     "outputs": [],
     "prompt_number": null
    },
    {
     "cell_type": "code",
     "collapsed": false,
     "input": [
      "X = np.array(range(100))\n",
      "print X.shape, X.ndim\n",
      "print X"
     ],
     "language": "python",
     "metadata": {},
     "outputs": [],
     "prompt_number": null
    },
    {
     "cell_type": "code",
     "collapsed": false,
     "input": [
      "print X.reshape(20, 5)"
     ],
     "language": "python",
     "metadata": {},
     "outputs": [],
     "prompt_number": null
    },
    {
     "cell_type": "code",
     "collapsed": false,
     "input": [
      "print X.reshape(10, 10)"
     ],
     "language": "python",
     "metadata": {},
     "outputs": [],
     "prompt_number": null
    },
    {
     "cell_type": "code",
     "collapsed": false,
     "input": [
      "print X.reshape(13, 3)"
     ],
     "language": "python",
     "metadata": {},
     "outputs": [],
     "prompt_number": null
    },
    {
     "cell_type": "code",
     "collapsed": false,
     "input": [
      "print X.reshape(-1, 20)"
     ],
     "language": "python",
     "metadata": {},
     "outputs": [],
     "prompt_number": null
    },
    {
     "cell_type": "code",
     "collapsed": false,
     "input": [
      "print X.reshape(-1, -1)"
     ],
     "language": "python",
     "metadata": {},
     "outputs": [],
     "prompt_number": null
    },
    {
     "cell_type": "code",
     "collapsed": false,
     "input": [
      "Y = X.reshape(10, 10)\n",
      "print Y\n",
      "print Y.reshape(1, -1)\n",
      "print Y.reshape(1, -1).shape, Y.reshape(1, -1).ndim"
     ],
     "language": "python",
     "metadata": {},
     "outputs": [],
     "prompt_number": null
    },
    {
     "cell_type": "code",
     "collapsed": false,
     "input": [
      "print Y.ravel()"
     ],
     "language": "python",
     "metadata": {},
     "outputs": [],
     "prompt_number": null
    },
    {
     "cell_type": "code",
     "collapsed": false,
     "input": [
      "Z = Y[6:10, 1:4]\n",
      "print Z"
     ],
     "language": "python",
     "metadata": {},
     "outputs": [],
     "prompt_number": null
    },
    {
     "cell_type": "code",
     "collapsed": false,
     "input": [
      "print Z + Z\n",
      "print 2 + Z\n",
      "print 2 * Z\n",
      "print 2./ Z\n",
      "print Z / 2\n",
      "print -Z\n",
      "print Z ** 2\n",
      "print np.sqrt(Z)"
     ],
     "language": "python",
     "metadata": {},
     "outputs": [],
     "prompt_number": null
    },
    {
     "cell_type": "code",
     "collapsed": false,
     "input": [
      "Z = np.array(range(6)).reshape(3, 2)\n",
      "print Z\n",
      "\n",
      "print Z * Z\n"
     ],
     "language": "python",
     "metadata": {},
     "outputs": [],
     "prompt_number": null
    },
    {
     "cell_type": "code",
     "collapsed": true,
     "input": [
      "print Z.dot(Z)"
     ],
     "language": "python",
     "metadata": {},
     "outputs": [],
     "prompt_number": null
    },
    {
     "cell_type": "code",
     "collapsed": false,
     "input": [
      "print Z.dot(Z.T)"
     ],
     "language": "python",
     "metadata": {},
     "outputs": [],
     "prompt_number": null
    },
    {
     "cell_type": "code",
     "collapsed": false,
     "input": [
      "print Z.sum(), Z.min(), Z.max(), Z.mean()"
     ],
     "language": "python",
     "metadata": {},
     "outputs": [],
     "prompt_number": null
    },
    {
     "cell_type": "code",
     "collapsed": false,
     "input": [
      "B = np.mat(Z) # B = np.matrix(Z)\n",
      "print B * B.T"
     ],
     "language": "python",
     "metadata": {},
     "outputs": [],
     "prompt_number": null
    },
    {
     "cell_type": "code",
     "collapsed": false,
     "input": [
      "print Z[0], Z[0].ndim\n",
      "print Z[1], Z[0].ndim\n",
      "print\n",
      "print Z[0].dot(Z[1])\n",
      "print np.outer(Z[0], Z[1])\n",
      "print\n",
      "print np.mat(Z[0]) * np.mat(Z[1]).T\n",
      "print np.mat(Z[0]).T * np.mat(Z[1])"
     ],
     "language": "python",
     "metadata": {},
     "outputs": [],
     "prompt_number": null
    },
    {
     "cell_type": "code",
     "collapsed": false,
     "input": [
      "print Z\n",
      "print Z[0]\n",
      "print\n",
      "print Z + Z[0]"
     ],
     "language": "python",
     "metadata": {},
     "outputs": [],
     "prompt_number": null
    },
    {
     "cell_type": "code",
     "collapsed": false,
     "input": [
      "print Z + Z[:, 0]"
     ],
     "language": "python",
     "metadata": {},
     "outputs": [],
     "prompt_number": null
    },
    {
     "cell_type": "code",
     "collapsed": false,
     "input": [
      "print Z[:, 0]\n"
     ],
     "language": "python",
     "metadata": {},
     "outputs": [],
     "prompt_number": null
    },
    {
     "cell_type": "code",
     "collapsed": true,
     "input": [
      "print Z[np.newaxis, :, 0]\n",
      "print Z[:, 0, np.newaxis]\n",
      "print Z[:, 0][:, np.newaxis]"
     ],
     "language": "python",
     "metadata": {},
     "outputs": [],
     "prompt_number": null
    },
    {
     "cell_type": "code",
     "collapsed": false,
     "input": [
      "print Z\n",
      "print Z + Z[:, 0, np.newaxis]"
     ],
     "language": "python",
     "metadata": {},
     "outputs": [],
     "prompt_number": null
    },
    {
     "cell_type": "code",
     "collapsed": false,
     "input": [
      "print np.hstack((Z, Z))\n",
      "print np.concatenate((Z, Z), axis=1)\n",
      "print\n",
      "print np.vstack((Z, Z))\n",
      "print np.concatenate((Z, Z), axis=0)"
     ],
     "language": "python",
     "metadata": {},
     "outputs": [],
     "prompt_number": null
    },
    {
     "cell_type": "code",
     "collapsed": false,
     "input": [
      "for row in Z:\n",
      "    print row, row.shape\n",
      "    \n",
      "for col in Z.T:\n",
      "    print col, col.shape\n",
      "    "
     ],
     "language": "python",
     "metadata": {},
     "outputs": [],
     "prompt_number": null
    },
    {
     "cell_type": "code",
     "collapsed": false,
     "input": [
      "print dir(Z)"
     ],
     "language": "python",
     "metadata": {},
     "outputs": [],
     "prompt_number": null
    },
    {
     "cell_type": "code",
     "collapsed": false,
     "input": [
      "print Z\n",
      "print Z.std(), Z.var(), Z.prod(), Z.trace()\n",
      "print Z.argmax()\n",
      "print Z.item(Z.argmax())"
     ],
     "language": "python",
     "metadata": {},
     "outputs": [],
     "prompt_number": null
    },
    {
     "cell_type": "code",
     "collapsed": false,
     "input": [
      "print Z.ravel()\n",
      "print Z.flatten()"
     ],
     "language": "python",
     "metadata": {},
     "outputs": [],
     "prompt_number": null
    },
    {
     "cell_type": "code",
     "collapsed": false,
     "input": [
      "Z.ravel()[0] = -1\n",
      "print Z\n",
      "Z.flatten()[0] = 12\n",
      "print Z"
     ],
     "language": "python",
     "metadata": {},
     "outputs": [],
     "prompt_number": null
    },
    {
     "cell_type": "heading",
     "level": 3,
     "metadata": {},
     "source": [
      "OK, ale po co?"
     ]
    },
    {
     "cell_type": "code",
     "collapsed": false,
     "input": [
      "a = np.arange(100)\n",
      "b = range(100)"
     ],
     "language": "python",
     "metadata": {},
     "outputs": [],
     "prompt_number": null
    },
    {
     "cell_type": "code",
     "collapsed": false,
     "input": [
      "a.append(1)"
     ],
     "language": "python",
     "metadata": {},
     "outputs": [],
     "prompt_number": null
    },
    {
     "cell_type": "code",
     "collapsed": false,
     "input": [
      "from timeit import timeit\n",
      "\n",
      "print timeit('np.arange(100000).sum()', setup='import numpy as np', number=1000)\n",
      "print timeit('sum(xrange(100000))', number=1000)\n",
      "print timeit('sum(range(100000))', number=1000)"
     ],
     "language": "python",
     "metadata": {},
     "outputs": [],
     "prompt_number": null
    },
    {
     "cell_type": "code",
     "collapsed": true,
     "input": [
      "from itertools import imap,starmap,izip\n",
      "from operator import mul\n",
      "\n",
      "def d0(v1,v2):\n",
      "    \"\"\"                                                                                                     \n",
      "    d0 is Nominal approach:                                                                                 \n",
      "    multiply/add in a loop                                                                                  \n",
      "    \"\"\"\n",
      "    out = 0\n",
      "    for k in range(len(v1)):\n",
      "        out += v1[k] * v2[k]\n",
      "    return out\n",
      "\n",
      "def d1(v1,v2):\n",
      "    \"\"\"                                                                                                     \n",
      "    d1 uses an imap (from itertools)                                                                        \n",
      "    \"\"\"\n",
      "    return sum(imap(mul,v1,v2))\n",
      "\n",
      "def d2(v1,v2):\n",
      "    \"\"\"                                                                                                     \n",
      "    d2 uses a conventional map                                                                              \n",
      "    \"\"\"\n",
      "    return sum(map(mul,v1,v2))\n",
      "\n",
      "def d3(v1,v2):\n",
      "    \"\"\"                                                                                                     \n",
      "    d3 uses a starmap (itertools) to apply the mul operator on an izipped (v1,v2)                           \n",
      "    \"\"\"\n",
      "    return sum(starmap(mul,izip(v1,v2)))\n",
      "\n",
      "def d4(v1,v2):\n",
      "    return np.dot(v1, v2)"
     ],
     "language": "python",
     "metadata": {},
     "outputs": [],
     "prompt_number": null
    },
    {
     "cell_type": "raw",
     "metadata": {},
     "source": [
      "d0 elapsed:  12.1977242918\n",
      "d1 elapsed:  13.885232341\n",
      "d2 elapsed:  13.7929552499\n",
      "d3 elapsed:  11.0952246724\n",
      "d4 elapsed:  3.22535741274"
     ]
    },
    {
     "cell_type": "heading",
     "level": 3,
     "metadata": {},
     "source": [
      "Bardziej zaawansowane u\u017cycie"
     ]
    },
    {
     "cell_type": "code",
     "collapsed": false,
     "input": [
      "print Z\n",
      "print Z > 72"
     ],
     "language": "python",
     "metadata": {},
     "outputs": [],
     "prompt_number": null
    },
    {
     "cell_type": "code",
     "collapsed": false,
     "input": [
      "print Z[Z > 72]"
     ],
     "language": "python",
     "metadata": {},
     "outputs": [],
     "prompt_number": null
    },
    {
     "cell_type": "code",
     "collapsed": false,
     "input": [
      "Z[Z > 72] = np.array(range(7))\n",
      "print Z"
     ],
     "language": "python",
     "metadata": {},
     "outputs": [],
     "prompt_number": null
    },
    {
     "cell_type": "code",
     "collapsed": false,
     "input": [
      "print Z[(1, 1)]\n",
      "print Z[1, 1]\n",
      "print Z[1][1]"
     ],
     "language": "python",
     "metadata": {},
     "outputs": [],
     "prompt_number": null
    },
    {
     "cell_type": "code",
     "collapsed": false,
     "input": [
      "print Z\n",
      "print np.all(Z > -1)\n",
      "print np.any(Z > 0)"
     ],
     "language": "python",
     "metadata": {},
     "outputs": [],
     "prompt_number": null
    },
    {
     "cell_type": "code",
     "collapsed": false,
     "input": [
      "X = np.matrix([[1, -1, 0]])\n",
      "print X"
     ],
     "language": "python",
     "metadata": {},
     "outputs": [],
     "prompt_number": null
    },
    {
     "cell_type": "code",
     "collapsed": false,
     "input": [
      "print X / 0.\n",
      "print X / 0. * -1"
     ],
     "language": "python",
     "metadata": {},
     "outputs": [],
     "prompt_number": null
    },
    {
     "cell_type": "code",
     "collapsed": false,
     "input": [
      "Y =  X / 0.\n",
      "print Y\n",
      "Y[Y == np.inf] = 10000\n",
      "Y[Y == -np.inf] = -10000\n",
      "Y[Y == np.NaN] = 0\n",
      "print Y"
     ],
     "language": "python",
     "metadata": {},
     "outputs": [],
     "prompt_number": null
    },
    {
     "cell_type": "code",
     "collapsed": false,
     "input": [
      "Y =  X / 0.\n",
      "print Y\n",
      "Y[Y == np.inf] = 10000\n",
      "Y[Y == -np.inf] = -10000\n",
      "# Y[Y is np.NaN] = 0 # To zamieni cala macierz na 0, poniewaz Y is np.NaN zwraca False\n",
      "Y[np.isnan(Y)] = 0 # poprawne usuniecie nanow\n",
      "print Y"
     ],
     "language": "python",
     "metadata": {},
     "outputs": [],
     "prompt_number": null
    },
    {
     "cell_type": "code",
     "collapsed": false,
     "input": [
      "print np.NaN == np.NaN\n",
      "print np.NaN is np.NaN\n",
      "print\n",
      "print None == None\n",
      "print None is None"
     ],
     "language": "python",
     "metadata": {},
     "outputs": [],
     "prompt_number": null
    },
    {
     "cell_type": "code",
     "collapsed": false,
     "input": [
      "print Y.dtype\n",
      "print Y\n",
      "Z = Y.astype(np.int64) + 600\n",
      "print\n",
      "print Z.dtype\n",
      "print Z\n",
      "Z = Z.astype(np.int8) \n",
      "print\n",
      "print Z.dtype\n",
      "print Z\n",
      "Z = Z + 0.5\n",
      "print\n",
      "print Z.dtype\n",
      "print Z"
     ],
     "language": "python",
     "metadata": {},
     "outputs": [],
     "prompt_number": null
    },
    {
     "cell_type": "code",
     "collapsed": false,
     "input": [
      "print Z\n",
      "print Z.strides\n",
      "print\n",
      "print Z.astype(np.int8)\n",
      "print Z.astype(np.int8).strides\n",
      "print\n",
      "print Z\n",
      "print Z.T.strides"
     ],
     "language": "python",
     "metadata": {},
     "outputs": [],
     "prompt_number": null
    },
    {
     "cell_type": "code",
     "collapsed": false,
     "input": [
      "print Z & Z"
     ],
     "language": "python",
     "metadata": {},
     "outputs": [],
     "prompt_number": null
    },
    {
     "cell_type": "code",
     "collapsed": false,
     "input": [
      "A = Z.astype(np.int8)\n",
      "B = Z.astype(np.int8)+10\n",
      "print A, B\n",
      "print A & B, A ^ B\n",
      "print\n",
      "C = Z.astype(np.bool)\n",
      "print C, -C\n",
      "print C | -C"
     ],
     "language": "python",
     "metadata": {},
     "outputs": [],
     "prompt_number": null
    }
   ],
   "metadata": {}
  }
 ]
}