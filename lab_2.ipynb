{
 "cells": [
  {
   "cell_type": "markdown",
   "metadata": {},
   "source": [
    "# Laboratorium 2"
   ]
  },
  {
   "cell_type": "markdown",
   "metadata": {},
   "source": [
    "#### Rozgrzewka \n",
    "Zaimplementuj poniższą funkcje tak, aby sprawdzała czy dwa słowa są anagramami iterując po każdym słowie maksymalnie raz."
   ]
  },
  {
   "cell_type": "code",
   "execution_count": null,
   "metadata": {
    "collapsed": false
   },
   "outputs": [],
   "source": [
    "def check_anagram(first, second):\n",
    "    \"\"\" Sprawdza czy podane słowa są anagramami \"\"\"\n",
    "    pass\n",
    "\n",
    "print(check_anagram(\"abcd\", \"dcba\") == True)\n",
    "print(check_anagram(\"aba\", \"baa\") == True)\n",
    "print(check_anagram(\"aba\", \"ba\") == False)\n",
    "print(check_anagram(\"tom marvolo riddle \", \"i am lord voldemort\") == True)"
   ]
  },
  {
   "cell_type": "markdown",
   "metadata": {},
   "source": [
    "#### Comprehensions\n",
    "Zapisz każdą z poniższych 4 funkcji w postaci _list/dict/set comprehension_. Nie należy używać żadnych zmiennych tymczasowych ani dodatkowych linii, każda funkcja ma zostać wyrażona w postaci: <br>\n",
    "```\n",
    "def FUNKCJA(ARGUMENTY):\n",
    "    return COMPREHENSION\n",
    "```"
   ]
  },
  {
   "cell_type": "code",
   "execution_count": null,
   "metadata": {
    "collapsed": false
   },
   "outputs": [],
   "source": [
    "def even_numbers_from_list(data):\n",
    "    \"\"\"Zwraca podlistę \"data\" zawierającą wyłącznie parzyste liczby\"\"\"\n",
    "    result = []\n",
    "    for point in data:\n",
    "        if point % 2 == 0:\n",
    "            result.append(point)\n",
    "    return result\n",
    "\n",
    "print(even_numbers_from_list([1, 2, 3, 4]) == [2, 4])\n",
    "print(even_numbers_from_list(range(10)) == list(range(0, 10, 2)))\n",
    "print(even_numbers_from_list(range(1000)) == list(range(0, 1000, 2)))\n",
    "print(even_numbers_from_list([10, 2, 3, 4, 6, -3, -4]) == [10, 2, 4, 6, -4])"
   ]
  },
  {
   "cell_type": "code",
   "execution_count": null,
   "metadata": {
    "collapsed": false
   },
   "outputs": [],
   "source": [
    "def words_analyze(words):\n",
    "    \"\"\"Zwraca listę trójek, gdzie i'ta trójka to (i, i'te słowo, długość i'tego słowa)\"\"\"\n",
    "    result = []\n",
    "    i = 0\n",
    "    for word in words:\n",
    "        result.append((i, word, len(word)))\n",
    "        i += 1\n",
    "    return result\n",
    "\n",
    "print(words_analyze(['tomek', 'jadzia']) == [(0, 'tomek', 5), (1, 'jadzia', 6)])\n",
    "print(words_analyze([]) == [])"
   ]
  },
  {
   "cell_type": "code",
   "execution_count": null,
   "metadata": {
    "collapsed": false
   },
   "outputs": [],
   "source": [
    "def count_words_starting_with_given_letter(text, letter):\n",
    "    \"\"\"Zwraca słownik gdzie kluczami są wszystkie słowa występujące w tekście \n",
    "    rozpoczynające się na zadaną literę, a wartością ile razy wystąpiy\"\"\"\n",
    "    result = {}\n",
    "    for word in text.split():\n",
    "        if word[0] == letter:\n",
    "            if word not in result:\n",
    "                result[word] = 1\n",
    "            else:\n",
    "                result[word] += 1\n",
    "    return result\n",
    "\n",
    "print(count_words_starting_with_given_letter('ola ma kota o imieniu ola', 'o') == {'ola': 2, 'o': 1})\n",
    "print(count_words_starting_with_given_letter('ola ma kota o imieniu ola', 'k') == {'kota': 1})\n",
    "print(count_words_starting_with_given_letter('ola ma kota o imieniu ola', 'x') == {})"
   ]
  },
  {
   "cell_type": "markdown",
   "metadata": {},
   "source": [
    "#### _Primes_ ponownie\n",
    "Zaimplementuj funckje z poprzednich ćwiczeń za pomocą _set comperhension_, tak aby cała jej implementacja zmieściła się w jednej linii (jak w powyższych zadaniach)"
   ]
  },
  {
   "cell_type": "code",
   "execution_count": null,
   "metadata": {
    "collapsed": false
   },
   "outputs": [],
   "source": [
    "from math import sqrt\n",
    "\n",
    "def primes(N):\n",
    "    \"\"\"Zwraca zbiór liczb pierwszych od 0 do N włącznie\"\"\"\n",
    "    pass\n",
    "    \n",
    "print(primes(5) == {2, 3, 5})\n",
    "print(primes(10) == {2, 3, 5, 7})\n",
    "print(primes(100) == {2, 3, 5, 7, 11, 13, 17, 19, 23, 29, 31, 37, 41, 43, 47, 53, 59, 61, 67, 71, 73, 79, 83, 89, 97})"
   ]
  },
  {
   "cell_type": "markdown",
   "metadata": {},
   "source": [
    "#### Funkcje\n",
    "Zaimplementuj poniższe funkcje tak aby działy dla nieznanej z góry liczby argumentów."
   ]
  },
  {
   "cell_type": "code",
   "execution_count": null,
   "metadata": {
    "collapsed": false
   },
   "outputs": [],
   "source": [
    "def mean(...):\n",
    "    \"\"\"Zwraca średnią liczb podanych jako argumenty pozycyjne\"\"\"\n",
    "    pass\n",
    "\n",
    "print(mean(1,2,3) == 2)\n",
    "print(mean(2,2,4,4) == 3)\n",
    "print(mean(1,2,3,4,5,61,2,12,123,123) == 33.6)"
   ]
  },
  {
   "cell_type": "code",
   "execution_count": null,
   "metadata": {
    "collapsed": false
   },
   "outputs": [],
   "source": [
    "def check_dictionary_content(...):\n",
    "    \"\"\"Sprawdza, czy w danym słowniku znajduje się conajmniej podana liczba elementów\"\"\"\n",
    "    pass\n",
    "\n",
    "\n",
    "d = {'orange': 3, 'apple': 1, 'dogs': 10}\n",
    "print(check_dictionary_content(d, orange=2) == True)\n",
    "print(check_dictionary_content(d, orange=2, apple=1) == True)\n",
    "print(check_dictionary_content(d, dogs=11) == False)\n",
    "print(check_dictionary_content(d, dogs=9, cats=0) == True)\n",
    "print(check_dictionary_content(d, apple=0, cats=1) == False)\n",
    "print(check_dictionary_content(d, **d) == True)"
   ]
  },
  {
   "cell_type": "markdown",
   "metadata": {},
   "source": [
    "## Zadanie dodatkowe\n",
    "Napisz funkcje _primes_ jeszcze raz, tym razem jednak nie wolno Ci użyć:\n",
    "\n",
    "* więcej jak stałej ilości pamięci (nie można alokować żadnej struktury o wielkości zależnejod N)\n",
    "* kodu, który sprawi że dla N=100000 będzie się ona liczyć więcej jak kilka-kilkanaście sekund\n",
    "* operatorów <, >, ==, !=\n",
    "\n",
    "oraz: <br>\n",
    "    A) funkcji range,<br>\n",
    "    B) pętli (for, while, etc.) i operatorów >=, <= z całością kodu w jednej linii\n"
   ]
  },
  {
   "cell_type": "code",
   "execution_count": null,
   "metadata": {
    "collapsed": false
   },
   "outputs": [],
   "source": [
    "def primes_extra_A(N):\n",
    "    \"\"\"Zwraca zbiór liczb pierwszych od 0 do N włącznie\"\"\"\n",
    "    pass\n",
    "    \n",
    "print(primes_extra_A(5) == {2, 3, 5})\n",
    "print(primes_extra_A(10) == {2, 3, 5, 7})\n",
    "print(primes_extra_A(100) == {2, 3, 5, 7, 11, 13, 17, 19, 23, 29, 31, 37, 41, 43, 47, 53, 59, 61, 67, 71, 73, 79, 83, 89, 97})"
   ]
  },
  {
   "cell_type": "code",
   "execution_count": null,
   "metadata": {
    "collapsed": false
   },
   "outputs": [],
   "source": [
    "def primes_extra_B(N):\n",
    "    \"\"\"Zwraca zbiór liczb pierwszych od 0 do N włącznie\"\"\"\n",
    "    pass\n",
    "\n",
    "print(primes_extra_B(5) == {2, 3, 5})\n",
    "print(primes_extra_B(10) == {2, 3, 5, 7})\n",
    "print(primes_extra_B(100) == {2, 3, 5, 7, 11, 13, 17, 19, 23, 29, 31, 37, 41, 43, 47, 53, 59, 61, 67, 71, 73, 79, 83, 89, 97})"
   ]
  }
 ],
 "metadata": {
  "kernelspec": {
   "display_name": "Python 3",
   "language": "python",
   "name": "python3"
  },
  "language_info": {
   "codemirror_mode": {
    "name": "ipython",
    "version": 3
   },
   "file_extension": ".py",
   "mimetype": "text/x-python",
   "name": "python",
   "nbconvert_exporter": "python",
   "pygments_lexer": "ipython3",
   "version": "3.6.1"
  }
 },
 "nbformat": 4,
 "nbformat_minor": 2
}
