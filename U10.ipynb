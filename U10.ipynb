{
 "cells": [
  {
   "cell_type": "markdown",
   "metadata": {},
   "source": [
    "# Programowanie Python. Laboratoria 10"
   ]
  },
  {
   "cell_type": "markdown",
   "metadata": {},
   "source": [
    "#### Zad 0\n",
    "\n",
    "Używając poniższego snippetu stwórz mini aplikację, gdzie możemy podać zakresy dla dziedziny funkcji $sin(x), cos(x), \\sqrt{x}$ a następnie narysować wybraną z nich."
   ]
  },
  {
   "cell_type": "code",
   "execution_count": 17,
   "metadata": {
    "collapsed": false
   },
   "outputs": [],
   "source": [
    "import matplotlib\n",
    "matplotlib.use(\"TkAgg\")\n",
    "from matplotlib.backends.backend_tkagg import FigureCanvasTkAgg, NavigationToolbar2TkAgg\n",
    "from matplotlib.figure import Figure\n",
    "\n",
    "import Tkinter as tk\n",
    "import ttk\n",
    "\n",
    "import numpy as np\n",
    "from functools import partial\n",
    "\n",
    "class MatplotlibApp(tk.Tk):\n",
    "\n",
    "    def __init__(self, *args, **kwargs):\n",
    "        \n",
    "        tk.Tk.__init__(self, *args, **kwargs)\n",
    "        \n",
    "        self.fig = Figure(figsize=(5,5), dpi=100)\n",
    "        self.plot = self.fig.add_subplot(111)\n",
    "        self.plot.plot([0,1,2,3,4], [0,1,-2,3,-4])\n",
    "        \n",
    "        self.canvas = FigureCanvasTkAgg(self.fig, self)\n",
    "        self.canvas.show()\n",
    "        self.canvas.get_tk_widget().pack(side=tk.BOTTOM, fill=tk.BOTH, expand=True)\n",
    "\n",
    "        self.canvas._tkcanvas.pack(side=tk.TOP, fill=tk.BOTH, expand=True)\n",
    "\n",
    "app = MatplotlibApp()\n",
    "app.mainloop()"
   ]
  },
  {
   "cell_type": "markdown",
   "metadata": {},
   "source": [
    "<img src=\"U10_img/cos.png\">"
   ]
  },
  {
   "cell_type": "markdown",
   "metadata": {},
   "source": [
    "#### Zad 1\n",
    "\n",
    "Stwórz prostą grę typu snake, obsługiwaną z klawiatury. Powinniśmy poruszać się po planszy $N \\times N$ pól, sterujemy strzałkami lub WSAD (do Państwa wyboru). Po zjedzeniu \"jabłuszka\" wydłużamy się o jeden. Przegrywamy gdy uderzymy w ścianę lub samego siebie."
   ]
  },
  {
   "cell_type": "markdown",
   "metadata": {},
   "source": [
    "####Zadanie dodatkowe\n",
    "\n",
    "Przerób powyższą grę na wersję dla dwóch graczy (jeden gra strzałkami a drugi WSAD) oraz dodaj trzeciego węża sterowanego przez komputer."
   ]
  }
 ],
 "metadata": {
  "kernelspec": {
   "display_name": "Python 2",
   "language": "python",
   "name": "python2"
  },
  "language_info": {
   "codemirror_mode": {
    "name": "ipython",
    "version": 2
   },
   "file_extension": ".py",
   "mimetype": "text/x-python",
   "name": "python",
   "nbconvert_exporter": "python",
   "pygments_lexer": "ipython2",
   "version": "2.7.9"
  }
 },
 "nbformat": 4,
 "nbformat_minor": 0
}
