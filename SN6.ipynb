{
 "metadata": {
  "kernelspec": {
   "display_name": "Python 2",
   "language": "python",
   "name": "python2"
  },
  "language_info": {
   "codemirror_mode": {
    "name": "ipython",
    "version": 2
   },
   "file_extension": ".py",
   "mimetype": "text/x-python",
   "name": "python",
   "nbconvert_exporter": "python",
   "pygments_lexer": "ipython2",
   "version": "2.7.9"
  },
  "name": ""
 },
 "nbformat": 3,
 "nbformat_minor": 0,
 "worksheets": [
  {
   "cells": [
    {
     "cell_type": "heading",
     "level": 1,
     "metadata": {},
     "source": [
      "Sieci Neuronowe - Laboratorium 6. Sieci typu RBF, sieci o losowej warstwie ukrytej"
     ]
    },
    {
     "cell_type": "markdown",
     "metadata": {},
     "source": [
      "## Sie\u0107 RBF\n",
      "\n",
      "Mamy dane ucz\u0105ce w postaci $X = (x_1, ..., x_N), y = (y_1, ..., y_N)$\n",
      "\n",
      "Warstwa ukryta o $h$ neuronach wykonuje projekcj\u0119 opart\u0105\u00a0o nieliniow\u0105 funkcj\u0119 na\u0142o\u017con\u0105 na odleg\u0142o\u015b\u0107 euklidesow\u0105\n",
      "$$\n",
      "H_{ij} = f(\\|x_i - w_j\\|^2)\n",
      "$$\n",
      "np.\n",
      "$$\n",
      "f(x) = e^{-x}\n",
      "$$\n",
      "\n",
      "W warstwie wyj\u015bciowej przeprowadzamy zwyczajn\u0105 regresj\u0119 liniow\u0105 (zregularyzowan\u0105, Ridge regression)\n",
      "$$\n",
      "\\beta = (H^TH + \\tfrac{1}{C}I)^{-1}H^Ty \\iff \\beta = \\arg\\min_\\alpha \\|H\\alpha - y\\|^2 + \\tfrac{1}{C}\\|\\alpha\\|^2\n",
      "$$\n",
      "\n",
      "Sk\u0105d wzi\u0105\u0107 $w_j$?\n",
      "\n",
      "1. Je\u015bli $h = N$ to najcz\u0119sciej bierze si\u0119 $w_j = x_j$\n",
      "2. Je\u015bli $h < N$ to bierze si\u0119 cz\u0119sto wynik klastrowania $X$ (w najprostszym przypadku - losowy wyb\u00f3r przyk\u0142ad\u00f3w z $X$) lub innego procesu optymalizacji na $X$\n",
      "3. Je\u015bli z jaki\u015b wzgl\u0119d\u00f3w nie mamy dost\u0119pu do $X$ na etapie tworzenia tej cz\u0119\u015bci sieci, losuje si\u0119 $w_j$ z jakiego\u015b rozk\u0142adu (tak jak inicjalizacja wag w normalnej sieci)\n",
      "\n",
      "\n",
      "### zadania\n",
      "\n",
      "1. Zaimplementuj sie\u0107 typu RBF, parametryzuj\u0105c funkcj\u0119 aktywacji i ew. proces wyboru $w_j$\n",
      "2. Czym r\u00f3\u017cni\u0105 si\u0119\u00a0funkcje aktywacji typu RBF od funkcji opartych o iloczyn skalarny (neuron-like)\n",
      "3. Przetestuj swoj\u0105 sie\u0107 na zbiorze breast-cancer oraz na wybranym dot\u0105d o\n",
      "4. Czy sie\u0107 RBF mo\u017cemy uczy\u0107 propagacj\u0105\u00a0wsteczn\u0105? Dlaczego? "
     ]
    }
   ],
   "metadata": {}
  }
 ]
}